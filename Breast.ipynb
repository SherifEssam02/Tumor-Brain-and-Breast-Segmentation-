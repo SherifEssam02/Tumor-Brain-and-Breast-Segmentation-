{
  "cells": [
    {
      "cell_type": "code",
      "execution_count": 2,
      "metadata": {
        "id": "qhvr3rgUK0XM"
      },
      "outputs": [],
      "source": [
        "# from zipfile import ZipFile\n",
        "# with ZipFile('/content/gdrive/MyDrive/Dataset.zip', 'r') as zipObj:\n",
        "#   # Extract all the contents of zip file in current directory\n",
        "#    zipObj.extractall()"
      ]
    },
    {
      "cell_type": "code",
      "execution_count": 1,
      "metadata": {
        "colab": {
          "base_uri": "https://localhost:8080/"
        },
        "id": "VgMN3kWrK4MY",
        "outputId": "26dae34f-ef7e-4a5b-c539-07111d6ebaf5"
      },
      "outputs": [
        {
          "name": "stdout",
          "output_type": "stream",
          "text": [
            "Mounted at /content/gdrive\n"
          ]
        }
      ],
      "source": [
        "# from google.colab import drive\n",
        "# drive.mount('/content/gdrive')"
      ]
    },
    {
      "cell_type": "code",
      "execution_count": 3,
      "metadata": {
        "colab": {
          "base_uri": "https://localhost:8080/"
        },
        "id": "UyotZrFULEjG",
        "outputId": "4e2ada3d-61cd-43c0-8699-a0db41ec40c9"
      },
      "outputs": [
        {
          "name": "stdout",
          "output_type": "stream",
          "text": [
            "Looking in indexes: https://pypi.org/simple, https://us-python.pkg.dev/colab-wheels/public/simple/\n",
            "Collecting segmentation-models\n",
            "  Downloading segmentation_models-1.0.1-py3-none-any.whl (33 kB)\n",
            "Collecting keras-applications<=1.0.8,>=1.0.7\n",
            "  Downloading Keras_Applications-1.0.8-py3-none-any.whl (50 kB)\n",
            "\u001b[K     |████████████████████████████████| 50 kB 7.8 MB/s \n",
            "\u001b[?25hCollecting efficientnet==1.0.0\n",
            "  Downloading efficientnet-1.0.0-py3-none-any.whl (17 kB)\n",
            "Collecting image-classifiers==1.0.0\n",
            "  Downloading image_classifiers-1.0.0-py3-none-any.whl (19 kB)\n",
            "Requirement already satisfied: scikit-image in /usr/local/lib/python3.8/dist-packages (from efficientnet==1.0.0->segmentation-models) (0.18.3)\n",
            "Requirement already satisfied: numpy>=1.9.1 in /usr/local/lib/python3.8/dist-packages (from keras-applications<=1.0.8,>=1.0.7->segmentation-models) (1.21.6)\n",
            "Requirement already satisfied: h5py in /usr/local/lib/python3.8/dist-packages (from keras-applications<=1.0.8,>=1.0.7->segmentation-models) (3.1.0)\n",
            "Requirement already satisfied: networkx>=2.0 in /usr/local/lib/python3.8/dist-packages (from scikit-image->efficientnet==1.0.0->segmentation-models) (2.8.8)\n",
            "Requirement already satisfied: PyWavelets>=1.1.1 in /usr/local/lib/python3.8/dist-packages (from scikit-image->efficientnet==1.0.0->segmentation-models) (1.4.1)\n",
            "Requirement already satisfied: matplotlib!=3.0.0,>=2.0.0 in /usr/local/lib/python3.8/dist-packages (from scikit-image->efficientnet==1.0.0->segmentation-models) (3.2.2)\n",
            "Requirement already satisfied: pillow!=7.1.0,!=7.1.1,>=4.3.0 in /usr/local/lib/python3.8/dist-packages (from scikit-image->efficientnet==1.0.0->segmentation-models) (7.1.2)\n",
            "Requirement already satisfied: imageio>=2.3.0 in /usr/local/lib/python3.8/dist-packages (from scikit-image->efficientnet==1.0.0->segmentation-models) (2.9.0)\n",
            "Requirement already satisfied: scipy>=1.0.1 in /usr/local/lib/python3.8/dist-packages (from scikit-image->efficientnet==1.0.0->segmentation-models) (1.7.3)\n",
            "Requirement already satisfied: tifffile>=2019.7.26 in /usr/local/lib/python3.8/dist-packages (from scikit-image->efficientnet==1.0.0->segmentation-models) (2022.10.10)\n",
            "Requirement already satisfied: pyparsing!=2.0.4,!=2.1.2,!=2.1.6,>=2.0.1 in /usr/local/lib/python3.8/dist-packages (from matplotlib!=3.0.0,>=2.0.0->scikit-image->efficientnet==1.0.0->segmentation-models) (3.0.9)\n",
            "Requirement already satisfied: cycler>=0.10 in /usr/local/lib/python3.8/dist-packages (from matplotlib!=3.0.0,>=2.0.0->scikit-image->efficientnet==1.0.0->segmentation-models) (0.11.0)\n",
            "Requirement already satisfied: kiwisolver>=1.0.1 in /usr/local/lib/python3.8/dist-packages (from matplotlib!=3.0.0,>=2.0.0->scikit-image->efficientnet==1.0.0->segmentation-models) (1.4.4)\n",
            "Requirement already satisfied: python-dateutil>=2.1 in /usr/local/lib/python3.8/dist-packages (from matplotlib!=3.0.0,>=2.0.0->scikit-image->efficientnet==1.0.0->segmentation-models) (2.8.2)\n",
            "Requirement already satisfied: six>=1.5 in /usr/local/lib/python3.8/dist-packages (from python-dateutil>=2.1->matplotlib!=3.0.0,>=2.0.0->scikit-image->efficientnet==1.0.0->segmentation-models) (1.15.0)\n",
            "Installing collected packages: keras-applications, image-classifiers, efficientnet, segmentation-models\n",
            "Successfully installed efficientnet-1.0.0 image-classifiers-1.0.0 keras-applications-1.0.8 segmentation-models-1.0.1\n"
          ]
        }
      ],
      "source": [
        "# !pip install -U segmentation-models"
      ]
    },
    {
      "cell_type": "code",
      "execution_count": 4,
      "metadata": {
        "colab": {
          "base_uri": "https://localhost:8080/"
        },
        "id": "sgFi2Yz3a_xE",
        "outputId": "598613bd-b7c5-4eec-b3d9-704eb02034c2"
      },
      "outputs": [
        {
          "name": "stdout",
          "output_type": "stream",
          "text": [
            "Segmentation Models: using `keras` framework.\n"
          ]
        }
      ],
      "source": [
        "import segmentation_models as sm"
      ]
    },
    {
      "cell_type": "code",
      "execution_count": 5,
      "metadata": {
        "id": "vZ8MmR4ZbzeX"
      },
      "outputs": [],
      "source": [
        "# size_x,size_y,classes=128,128,2\n",
        "# num_images = 500"
      ]
    },
    {
      "cell_type": "code",
      "execution_count": 6,
      "metadata": {
        "id": "FfPI32DpcrhI"
      },
      "outputs": [],
      "source": [
        "import os\n",
        "import glob\n",
        "import cv2\n",
        "import numpy as np\n",
        "from matplotlib import pyplot as plt"
      ]
    },
    {
      "cell_type": "code",
      "execution_count": 7,
      "metadata": {
        "id": "m78pJk_1lmzh"
      },
      "outputs": [],
      "source": [
        "benign_Train=\"D:\\\\university\\\\Dataset\\\\Dataset\\\\Breast scans\\\\benign\\\\Train\\\\*.png\"\n",
        "malignant_Train=\"D:\\\\university\\\\Dataset\\\\Dataset\\\\Breast scans\\\\malignant\\\\Train\\\\*.png\"\n",
        "benign_Test=\"D:\\\\university\\\\Dataset\\\\Dataset\\\\Breast scans\\\\benign\\\\Test\\\\*.png\"\n",
        "malignant_Test=\"D:\\\\university\\\\Dataset\\\\Dataset\\\\Breast scans\\\\malignant\\\\Test\\\\*.png\""
      ]
    },
    {
      "cell_type": "code",
      "execution_count": 8,
      "metadata": {
        "id": "qexeXA5HmJJj"
      },
      "outputs": [],
      "source": [
        "def check_duplicates(start,end,mask_image):\n",
        "    i=start\n",
        "    c=[0]*end\n",
        "    two_segm=[]\n",
        "    while i<end+1:\n",
        "      for image in mask_image:\n",
        "        if '('+str(i)+')' in image:\n",
        "          c[i-1]+=1\n",
        "      i+=1\n",
        "\n",
        "    for j in range(len(c)):\n",
        "      if c[j]>1:\n",
        "          for image in mask_image:\n",
        "              if '('+str(j+1)+')' in image:\n",
        "                two_segm.append(image)\n",
        "          print(j+1,\" \",end=\"\")\n",
        "    return two_segm"
      ]
    },
    {
      "cell_type": "code",
      "execution_count": 9,
      "metadata": {
        "id": "RmIRR6hZnOcz"
      },
      "outputs": [],
      "source": [
        "def merge(image,two_segm):\n",
        "  if \"195\" in image:\n",
        "      ret,thresh =cv2.threshold(cv2.resize(cv2.imread( two_segm[24], 0),(128,128)),55,255,0)\n",
        "      ret,thresh2 =cv2.threshold(cv2.resize(cv2.imread( two_segm[25], 0),(128,128)),55,255,0)\n",
        "      ret,thresh3 =cv2.threshold(cv2.resize(cv2.imread( two_segm[26], 0),(128,128)),55,255,0)\n",
        "      thresh=thresh+thresh2+thresh3\n",
        "      ret,thresh =cv2.threshold(thresh,55,255,0)\n",
        "      return thresh\n",
        "\n",
        "  for i in range (len(two_segm)):\n",
        "    if two_segm[i]==image:\n",
        "      ret,thresh =cv2.threshold(cv2.resize(cv2.imread( two_segm[i], 0),(128,128)),55,255,0)\n",
        "      ret,thresh2 =cv2.threshold(cv2.resize(cv2.imread( two_segm[i+1], 0),(128,128)),55,255,0)\n",
        "      thresh=thresh+thresh2\n",
        "      ret,thresh =cv2.threshold(thresh,55,255,0)\n",
        "      return thresh"
      ]
    },
    {
      "cell_type": "code",
      "execution_count": 10,
      "metadata": {
        "id": "ikwgzgndl74z"
      },
      "outputs": [],
      "source": [
        "def load_images(file_name):\n",
        "  image_names = glob.glob(file_name)\n",
        "  mask_image=[]\n",
        "  image_image=[]\n",
        "  for image in image_names:\n",
        "    if \"_mask\" in image:\n",
        "        mask_image.append(image)\n",
        "    else:\n",
        "      image_image.append(image)\n",
        "\n",
        "  mask_image.sort()\n",
        "  image_image.sort()\n",
        "  two_segm=check_duplicates(1,500,mask_image)\n",
        "  images = [cv2.resize(cv2.imread(image, 1), (128, 128)) for image in image_image] #SM backbones use 3 channel images, so let us read images in color.\n",
        "  masks=[]\n",
        "\n",
        "  for image in mask_image:\n",
        "    if image not in two_segm:\n",
        "      ret,thresh =cv2.threshold(cv2.resize(cv2.imread(image, 0),(128,128)),55,255,0)\n",
        "      masks.append(thresh)\n",
        "\n",
        "    elif image in two_segm:\n",
        "      if \"mask.png\" in image:\n",
        "        thresh2=merge(image,two_segm)\n",
        "        masks.append(thresh2)\n",
        "\n",
        "    \n",
        "  image_dataset = np.array(images)\n",
        "  mask_dataset = np.array(masks)\n",
        "  return image_dataset,mask_dataset\n"
      ]
    },
    {
      "cell_type": "code",
      "execution_count": 11,
      "metadata": {
        "colab": {
          "base_uri": "https://localhost:8080/"
        },
        "id": "0Zp_UW1Tnf19",
        "outputId": "15207a13-020c-4f91-d0b4-6f22147566f5"
      },
      "outputs": [
        {
          "name": "stdout",
          "output_type": "stream",
          "text": [
            "4  25  54  58  83  92  93  98  100  163  173  181  195  315  346  397 397\n"
          ]
        }
      ],
      "source": [
        "image_dataset_benign,mask_dataset_benign=load_images(benign_Train)\n",
        "print(len(image_dataset_benign),len(mask_dataset_benign))"
      ]
    },
    {
      "cell_type": "code",
      "execution_count": 12,
      "metadata": {
        "colab": {
          "base_uri": "https://localhost:8080/"
        },
        "id": "8sa-chGDo3bj",
        "outputId": "3ee6216b-de73-4d2e-e757-4913bfd2ec1a"
      },
      "outputs": [
        {
          "name": "stdout",
          "output_type": "stream",
          "text": [
            "180 180\n"
          ]
        }
      ],
      "source": [
        "image_dataset_malignant,mask_dataset_malignant=load_images(malignant_Train)\n",
        "print(len(image_dataset_malignant),len(mask_dataset_malignant))"
      ]
    },
    {
      "cell_type": "code",
      "execution_count": 13,
      "metadata": {
        "id": "Pyh2cflJ2wDA"
      },
      "outputs": [],
      "source": [
        "image_dataset=np.concatenate((image_dataset_benign, image_dataset_malignant), axis=0)\n",
        "mask_dataset=np.concatenate((mask_dataset_benign, mask_dataset_malignant), axis=0)"
      ]
    },
    {
      "cell_type": "code",
      "execution_count": 14,
      "metadata": {
        "colab": {
          "base_uri": "https://localhost:8080/"
        },
        "id": "r_uDC_rUdvEi",
        "outputId": "0b257d09-7320-4bd6-f636-518e2cabb544"
      },
      "outputs": [
        {
          "name": "stdout",
          "output_type": "stream",
          "text": [
            "577 577\n"
          ]
        }
      ],
      "source": [
        "print(len(image_dataset),len(mask_dataset))"
      ]
    },
    {
      "cell_type": "code",
      "execution_count": 15,
      "metadata": {
        "colab": {
          "base_uri": "https://localhost:8080/"
        },
        "id": "ASNeDNaffEki",
        "outputId": "2aea8b17-439d-40d5-c77d-f59ca75ae290"
      },
      "outputs": [
        {
          "name": "stdout",
          "output_type": "stream",
          "text": [
            "Total images in the original dataset are:  577\n",
            "Image data shape is:  (577, 128, 128, 3)\n",
            "Mask data shape is:  (577, 128, 128)\n",
            "Max pixel value in image is:  255\n",
            "Labels in the mask are :  [  0 255]\n"
          ]
        }
      ],
      "source": [
        "print(\"Total images in the original dataset are: \", len(image_dataset))\n",
        "print(\"Image data shape is: \", image_dataset.shape)\n",
        "print(\"Mask data shape is: \", mask_dataset.shape)\n",
        "print(\"Max pixel value in image is: \", image_dataset.max())\n",
        "print(\"Labels in the mask are : \", np.unique(mask_dataset))"
      ]
    },
    {
      "cell_type": "code",
      "execution_count": 16,
      "metadata": {
        "id": "D1hR9xK1i58j"
      },
      "outputs": [],
      "source": [
        "# plt.imshow(mask_dataset[222])"
      ]
    },
    {
      "cell_type": "code",
      "execution_count": 17,
      "metadata": {
        "id": "SOhIS9L3DWEv"
      },
      "outputs": [],
      "source": [
        "# plt.imshow(image_dataset[222])"
      ]
    },
    {
      "cell_type": "code",
      "execution_count": 18,
      "metadata": {
        "id": "qu0tSjmQsjk-"
      },
      "outputs": [],
      "source": [
        "from sklearn.preprocessing import LabelEncoder\n",
        "def encode(mask_dataset):\n",
        "  labelencoder = LabelEncoder()\n",
        "  n, h, w = mask_dataset.shape  \n",
        "  mask_dataset_reshaped = mask_dataset.reshape(-1,1)\n",
        "  mask_dataset_reshaped_encoded = labelencoder.fit_transform(mask_dataset_reshaped)\n",
        "  mask_dataset_encoded = mask_dataset_reshaped_encoded.reshape(n, h, w)\n",
        "  print(np.unique(mask_dataset_encoded))\n",
        "  mask_dataset_encoded = np.expand_dims(mask_dataset_encoded, axis = 3)\n",
        "  print(mask_dataset_encoded.shape)\n",
        "  return mask_dataset_encoded\n"
      ]
    },
    {
      "cell_type": "code",
      "execution_count": 19,
      "metadata": {
        "colab": {
          "base_uri": "https://localhost:8080/"
        },
        "id": "CX2vpfswmL4O",
        "outputId": "7a133f27-850c-4397-f40f-35ce2bb59f9b"
      },
      "outputs": [
        {
          "name": "stderr",
          "output_type": "stream",
          "text": [
            "/usr/local/lib/python3.8/dist-packages/sklearn/preprocessing/_label.py:115: DataConversionWarning: A column-vector y was passed when a 1d array was expected. Please change the shape of y to (n_samples, ), for example using ravel().\n",
            "  y = column_or_1d(y, warn=True)\n"
          ]
        },
        {
          "name": "stdout",
          "output_type": "stream",
          "text": [
            "[0 1]\n",
            "(577, 128, 128, 1)\n"
          ]
        }
      ],
      "source": [
        "mask_dataset_encoded=encode(mask_dataset)"
      ]
    },
    {
      "cell_type": "code",
      "execution_count": 20,
      "metadata": {
        "id": "5x3K7-rUqUq3"
      },
      "outputs": [],
      "source": [
        "# image_dataset = image_dataset /255."
      ]
    },
    {
      "cell_type": "code",
      "execution_count": 21,
      "metadata": {
        "id": "g8zTOTFwrHBo"
      },
      "outputs": [],
      "source": [
        "#Split training data\n",
        "from sklearn.model_selection import train_test_split\n",
        "X_train, X_test, y_train, y_test = train_test_split(image_dataset, mask_dataset_encoded, test_size = 0.2, random_state = 1)"
      ]
    },
    {
      "cell_type": "code",
      "execution_count": 22,
      "metadata": {
        "colab": {
          "base_uri": "https://localhost:8080/"
        },
        "id": "GhwbY0OwrKzN",
        "outputId": "2797e6f2-e265-427f-8748-40bce02e4cc6"
      },
      "outputs": [
        {
          "name": "stdout",
          "output_type": "stream",
          "text": [
            "(461, 128, 128, 2)\n",
            "(116, 128, 128, 2)\n"
          ]
        }
      ],
      "source": [
        "import tensorflow\n",
        "from tensorflow.keras.utils import to_categorical\n",
        "\n",
        "train_masks_cat = to_categorical(y_train, num_classes=2)\n",
        "y_train_cat = train_masks_cat.reshape((y_train.shape[0], y_train.shape[1], y_train.shape[2], 2))\n",
        "test_masks_cat = to_categorical(y_test, num_classes=2)\n",
        "y_test_cat = test_masks_cat.reshape((y_test.shape[0], y_test.shape[1], y_test.shape[2], 2))\n",
        "print(y_train_cat.shape)\n",
        "print(test_masks_cat.shape)\n"
      ]
    },
    {
      "cell_type": "code",
      "execution_count": 23,
      "metadata": {
        "id": "2aR0QYxLrj0-"
      },
      "outputs": [],
      "source": [
        "#Reused parameters in all models\n",
        "n_classes=2\n",
        "activation='softmax'\n",
        "\n",
        "LR = 0.0005\n",
        "optim = tensorflow.keras.optimizers.Adam(LR)\n",
        "\n",
        "# Segmentation models losses can be combined together by '+' and scaled by integer or float factor\n",
        "dice_loss = sm.losses.DiceLoss() \n",
        "focal_loss = sm.losses.CategoricalFocalLoss()\n",
        "total_loss = dice_loss + (1 * focal_loss)\n",
        "\n",
        "metrics = [sm.metrics.IOUScore(threshold=0.5), sm.metrics.FScore(threshold=0.5)]"
      ]
    },
    {
      "cell_type": "code",
      "execution_count": 24,
      "metadata": {
        "colab": {
          "base_uri": "https://localhost:8080/"
        },
        "id": "bFsLqGdArroa",
        "outputId": "b033ac61-9656-4006-cff5-d2d6e9c59c49"
      },
      "outputs": [
        {
          "name": "stdout",
          "output_type": "stream",
          "text": [
            "Downloading data from https://github.com/qubvel/classification_models/releases/download/0.0.1/resnet34_imagenet_1000_no_top.h5\n",
            "85521592/85521592 [==============================] - 11s 0us/step\n",
            "Model: \"model_1\"\n",
            "__________________________________________________________________________________________________\n",
            " Layer (type)                   Output Shape         Param #     Connected to                     \n",
            "==================================================================================================\n",
            " data (InputLayer)              [(None, None, None,  0           []                               \n",
            "                                 3)]                                                              \n",
            "                                                                                                  \n",
            " bn_data (BatchNormalization)   (None, None, None,   9           ['data[0][0]']                   \n",
            "                                3)                                                                \n",
            "                                                                                                  \n",
            " zero_padding2d (ZeroPadding2D)  (None, None, None,   0          ['bn_data[0][0]']                \n",
            "                                3)                                                                \n",
            "                                                                                                  \n",
            " conv0 (Conv2D)                 (None, None, None,   9408        ['zero_padding2d[0][0]']         \n",
            "                                64)                                                               \n",
            "                                                                                                  \n",
            " bn0 (BatchNormalization)       (None, None, None,   256         ['conv0[0][0]']                  \n",
            "                                64)                                                               \n",
            "                                                                                                  \n",
            " relu0 (Activation)             (None, None, None,   0           ['bn0[0][0]']                    \n",
            "                                64)                                                               \n",
            "                                                                                                  \n",
            " zero_padding2d_1 (ZeroPadding2  (None, None, None,   0          ['relu0[0][0]']                  \n",
            " D)                             64)                                                               \n",
            "                                                                                                  \n",
            " pooling0 (MaxPooling2D)        (None, None, None,   0           ['zero_padding2d_1[0][0]']       \n",
            "                                64)                                                               \n",
            "                                                                                                  \n",
            " stage1_unit1_bn1 (BatchNormali  (None, None, None,   256        ['pooling0[0][0]']               \n",
            " zation)                        64)                                                               \n",
            "                                                                                                  \n",
            " stage1_unit1_relu1 (Activation  (None, None, None,   0          ['stage1_unit1_bn1[0][0]']       \n",
            " )                              64)                                                               \n",
            "                                                                                                  \n",
            " zero_padding2d_2 (ZeroPadding2  (None, None, None,   0          ['stage1_unit1_relu1[0][0]']     \n",
            " D)                             64)                                                               \n",
            "                                                                                                  \n",
            " stage1_unit1_conv1 (Conv2D)    (None, None, None,   36864       ['zero_padding2d_2[0][0]']       \n",
            "                                64)                                                               \n",
            "                                                                                                  \n",
            " stage1_unit1_bn2 (BatchNormali  (None, None, None,   256        ['stage1_unit1_conv1[0][0]']     \n",
            " zation)                        64)                                                               \n",
            "                                                                                                  \n",
            " stage1_unit1_relu2 (Activation  (None, None, None,   0          ['stage1_unit1_bn2[0][0]']       \n",
            " )                              64)                                                               \n",
            "                                                                                                  \n",
            " zero_padding2d_3 (ZeroPadding2  (None, None, None,   0          ['stage1_unit1_relu2[0][0]']     \n",
            " D)                             64)                                                               \n",
            "                                                                                                  \n",
            " stage1_unit1_conv2 (Conv2D)    (None, None, None,   36864       ['zero_padding2d_3[0][0]']       \n",
            "                                64)                                                               \n",
            "                                                                                                  \n",
            " stage1_unit1_sc (Conv2D)       (None, None, None,   4096        ['stage1_unit1_relu1[0][0]']     \n",
            "                                64)                                                               \n",
            "                                                                                                  \n",
            " add (Add)                      (None, None, None,   0           ['stage1_unit1_conv2[0][0]',     \n",
            "                                64)                               'stage1_unit1_sc[0][0]']        \n",
            "                                                                                                  \n",
            " stage1_unit2_bn1 (BatchNormali  (None, None, None,   256        ['add[0][0]']                    \n",
            " zation)                        64)                                                               \n",
            "                                                                                                  \n",
            " stage1_unit2_relu1 (Activation  (None, None, None,   0          ['stage1_unit2_bn1[0][0]']       \n",
            " )                              64)                                                               \n",
            "                                                                                                  \n",
            " zero_padding2d_4 (ZeroPadding2  (None, None, None,   0          ['stage1_unit2_relu1[0][0]']     \n",
            " D)                             64)                                                               \n",
            "                                                                                                  \n",
            " stage1_unit2_conv1 (Conv2D)    (None, None, None,   36864       ['zero_padding2d_4[0][0]']       \n",
            "                                64)                                                               \n",
            "                                                                                                  \n",
            " stage1_unit2_bn2 (BatchNormali  (None, None, None,   256        ['stage1_unit2_conv1[0][0]']     \n",
            " zation)                        64)                                                               \n",
            "                                                                                                  \n",
            " stage1_unit2_relu2 (Activation  (None, None, None,   0          ['stage1_unit2_bn2[0][0]']       \n",
            " )                              64)                                                               \n",
            "                                                                                                  \n",
            " zero_padding2d_5 (ZeroPadding2  (None, None, None,   0          ['stage1_unit2_relu2[0][0]']     \n",
            " D)                             64)                                                               \n",
            "                                                                                                  \n",
            " stage1_unit2_conv2 (Conv2D)    (None, None, None,   36864       ['zero_padding2d_5[0][0]']       \n",
            "                                64)                                                               \n",
            "                                                                                                  \n",
            " add_1 (Add)                    (None, None, None,   0           ['stage1_unit2_conv2[0][0]',     \n",
            "                                64)                               'add[0][0]']                    \n",
            "                                                                                                  \n",
            " stage1_unit3_bn1 (BatchNormali  (None, None, None,   256        ['add_1[0][0]']                  \n",
            " zation)                        64)                                                               \n",
            "                                                                                                  \n",
            " stage1_unit3_relu1 (Activation  (None, None, None,   0          ['stage1_unit3_bn1[0][0]']       \n",
            " )                              64)                                                               \n",
            "                                                                                                  \n",
            " zero_padding2d_6 (ZeroPadding2  (None, None, None,   0          ['stage1_unit3_relu1[0][0]']     \n",
            " D)                             64)                                                               \n",
            "                                                                                                  \n",
            " stage1_unit3_conv1 (Conv2D)    (None, None, None,   36864       ['zero_padding2d_6[0][0]']       \n",
            "                                64)                                                               \n",
            "                                                                                                  \n",
            " stage1_unit3_bn2 (BatchNormali  (None, None, None,   256        ['stage1_unit3_conv1[0][0]']     \n",
            " zation)                        64)                                                               \n",
            "                                                                                                  \n",
            " stage1_unit3_relu2 (Activation  (None, None, None,   0          ['stage1_unit3_bn2[0][0]']       \n",
            " )                              64)                                                               \n",
            "                                                                                                  \n",
            " zero_padding2d_7 (ZeroPadding2  (None, None, None,   0          ['stage1_unit3_relu2[0][0]']     \n",
            " D)                             64)                                                               \n",
            "                                                                                                  \n",
            " stage1_unit3_conv2 (Conv2D)    (None, None, None,   36864       ['zero_padding2d_7[0][0]']       \n",
            "                                64)                                                               \n",
            "                                                                                                  \n",
            " add_2 (Add)                    (None, None, None,   0           ['stage1_unit3_conv2[0][0]',     \n",
            "                                64)                               'add_1[0][0]']                  \n",
            "                                                                                                  \n",
            " stage2_unit1_bn1 (BatchNormali  (None, None, None,   256        ['add_2[0][0]']                  \n",
            " zation)                        64)                                                               \n",
            "                                                                                                  \n",
            " stage2_unit1_relu1 (Activation  (None, None, None,   0          ['stage2_unit1_bn1[0][0]']       \n",
            " )                              64)                                                               \n",
            "                                                                                                  \n",
            " zero_padding2d_8 (ZeroPadding2  (None, None, None,   0          ['stage2_unit1_relu1[0][0]']     \n",
            " D)                             64)                                                               \n",
            "                                                                                                  \n",
            " stage2_unit1_conv1 (Conv2D)    (None, None, None,   73728       ['zero_padding2d_8[0][0]']       \n",
            "                                128)                                                              \n",
            "                                                                                                  \n",
            " stage2_unit1_bn2 (BatchNormali  (None, None, None,   512        ['stage2_unit1_conv1[0][0]']     \n",
            " zation)                        128)                                                              \n",
            "                                                                                                  \n",
            " stage2_unit1_relu2 (Activation  (None, None, None,   0          ['stage2_unit1_bn2[0][0]']       \n",
            " )                              128)                                                              \n",
            "                                                                                                  \n",
            " zero_padding2d_9 (ZeroPadding2  (None, None, None,   0          ['stage2_unit1_relu2[0][0]']     \n",
            " D)                             128)                                                              \n",
            "                                                                                                  \n",
            " stage2_unit1_conv2 (Conv2D)    (None, None, None,   147456      ['zero_padding2d_9[0][0]']       \n",
            "                                128)                                                              \n",
            "                                                                                                  \n",
            " stage2_unit1_sc (Conv2D)       (None, None, None,   8192        ['stage2_unit1_relu1[0][0]']     \n",
            "                                128)                                                              \n",
            "                                                                                                  \n",
            " add_3 (Add)                    (None, None, None,   0           ['stage2_unit1_conv2[0][0]',     \n",
            "                                128)                              'stage2_unit1_sc[0][0]']        \n",
            "                                                                                                  \n",
            " stage2_unit2_bn1 (BatchNormali  (None, None, None,   512        ['add_3[0][0]']                  \n",
            " zation)                        128)                                                              \n",
            "                                                                                                  \n",
            " stage2_unit2_relu1 (Activation  (None, None, None,   0          ['stage2_unit2_bn1[0][0]']       \n",
            " )                              128)                                                              \n",
            "                                                                                                  \n",
            " zero_padding2d_10 (ZeroPadding  (None, None, None,   0          ['stage2_unit2_relu1[0][0]']     \n",
            " 2D)                            128)                                                              \n",
            "                                                                                                  \n",
            " stage2_unit2_conv1 (Conv2D)    (None, None, None,   147456      ['zero_padding2d_10[0][0]']      \n",
            "                                128)                                                              \n",
            "                                                                                                  \n",
            " stage2_unit2_bn2 (BatchNormali  (None, None, None,   512        ['stage2_unit2_conv1[0][0]']     \n",
            " zation)                        128)                                                              \n",
            "                                                                                                  \n",
            " stage2_unit2_relu2 (Activation  (None, None, None,   0          ['stage2_unit2_bn2[0][0]']       \n",
            " )                              128)                                                              \n",
            "                                                                                                  \n",
            " zero_padding2d_11 (ZeroPadding  (None, None, None,   0          ['stage2_unit2_relu2[0][0]']     \n",
            " 2D)                            128)                                                              \n",
            "                                                                                                  \n",
            " stage2_unit2_conv2 (Conv2D)    (None, None, None,   147456      ['zero_padding2d_11[0][0]']      \n",
            "                                128)                                                              \n",
            "                                                                                                  \n",
            " add_4 (Add)                    (None, None, None,   0           ['stage2_unit2_conv2[0][0]',     \n",
            "                                128)                              'add_3[0][0]']                  \n",
            "                                                                                                  \n",
            " stage2_unit3_bn1 (BatchNormali  (None, None, None,   512        ['add_4[0][0]']                  \n",
            " zation)                        128)                                                              \n",
            "                                                                                                  \n",
            " stage2_unit3_relu1 (Activation  (None, None, None,   0          ['stage2_unit3_bn1[0][0]']       \n",
            " )                              128)                                                              \n",
            "                                                                                                  \n",
            " zero_padding2d_12 (ZeroPadding  (None, None, None,   0          ['stage2_unit3_relu1[0][0]']     \n",
            " 2D)                            128)                                                              \n",
            "                                                                                                  \n",
            " stage2_unit3_conv1 (Conv2D)    (None, None, None,   147456      ['zero_padding2d_12[0][0]']      \n",
            "                                128)                                                              \n",
            "                                                                                                  \n",
            " stage2_unit3_bn2 (BatchNormali  (None, None, None,   512        ['stage2_unit3_conv1[0][0]']     \n",
            " zation)                        128)                                                              \n",
            "                                                                                                  \n",
            " stage2_unit3_relu2 (Activation  (None, None, None,   0          ['stage2_unit3_bn2[0][0]']       \n",
            " )                              128)                                                              \n",
            "                                                                                                  \n",
            " zero_padding2d_13 (ZeroPadding  (None, None, None,   0          ['stage2_unit3_relu2[0][0]']     \n",
            " 2D)                            128)                                                              \n",
            "                                                                                                  \n",
            " stage2_unit3_conv2 (Conv2D)    (None, None, None,   147456      ['zero_padding2d_13[0][0]']      \n",
            "                                128)                                                              \n",
            "                                                                                                  \n",
            " add_5 (Add)                    (None, None, None,   0           ['stage2_unit3_conv2[0][0]',     \n",
            "                                128)                              'add_4[0][0]']                  \n",
            "                                                                                                  \n",
            " stage2_unit4_bn1 (BatchNormali  (None, None, None,   512        ['add_5[0][0]']                  \n",
            " zation)                        128)                                                              \n",
            "                                                                                                  \n",
            " stage2_unit4_relu1 (Activation  (None, None, None,   0          ['stage2_unit4_bn1[0][0]']       \n",
            " )                              128)                                                              \n",
            "                                                                                                  \n",
            " zero_padding2d_14 (ZeroPadding  (None, None, None,   0          ['stage2_unit4_relu1[0][0]']     \n",
            " 2D)                            128)                                                              \n",
            "                                                                                                  \n",
            " stage2_unit4_conv1 (Conv2D)    (None, None, None,   147456      ['zero_padding2d_14[0][0]']      \n",
            "                                128)                                                              \n",
            "                                                                                                  \n",
            " stage2_unit4_bn2 (BatchNormali  (None, None, None,   512        ['stage2_unit4_conv1[0][0]']     \n",
            " zation)                        128)                                                              \n",
            "                                                                                                  \n",
            " stage2_unit4_relu2 (Activation  (None, None, None,   0          ['stage2_unit4_bn2[0][0]']       \n",
            " )                              128)                                                              \n",
            "                                                                                                  \n",
            " zero_padding2d_15 (ZeroPadding  (None, None, None,   0          ['stage2_unit4_relu2[0][0]']     \n",
            " 2D)                            128)                                                              \n",
            "                                                                                                  \n",
            " stage2_unit4_conv2 (Conv2D)    (None, None, None,   147456      ['zero_padding2d_15[0][0]']      \n",
            "                                128)                                                              \n",
            "                                                                                                  \n",
            " add_6 (Add)                    (None, None, None,   0           ['stage2_unit4_conv2[0][0]',     \n",
            "                                128)                              'add_5[0][0]']                  \n",
            "                                                                                                  \n",
            " stage3_unit1_bn1 (BatchNormali  (None, None, None,   512        ['add_6[0][0]']                  \n",
            " zation)                        128)                                                              \n",
            "                                                                                                  \n",
            " stage3_unit1_relu1 (Activation  (None, None, None,   0          ['stage3_unit1_bn1[0][0]']       \n",
            " )                              128)                                                              \n",
            "                                                                                                  \n",
            " zero_padding2d_16 (ZeroPadding  (None, None, None,   0          ['stage3_unit1_relu1[0][0]']     \n",
            " 2D)                            128)                                                              \n",
            "                                                                                                  \n",
            " stage3_unit1_conv1 (Conv2D)    (None, None, None,   294912      ['zero_padding2d_16[0][0]']      \n",
            "                                256)                                                              \n",
            "                                                                                                  \n",
            " stage3_unit1_bn2 (BatchNormali  (None, None, None,   1024       ['stage3_unit1_conv1[0][0]']     \n",
            " zation)                        256)                                                              \n",
            "                                                                                                  \n",
            " stage3_unit1_relu2 (Activation  (None, None, None,   0          ['stage3_unit1_bn2[0][0]']       \n",
            " )                              256)                                                              \n",
            "                                                                                                  \n",
            " zero_padding2d_17 (ZeroPadding  (None, None, None,   0          ['stage3_unit1_relu2[0][0]']     \n",
            " 2D)                            256)                                                              \n",
            "                                                                                                  \n",
            " stage3_unit1_conv2 (Conv2D)    (None, None, None,   589824      ['zero_padding2d_17[0][0]']      \n",
            "                                256)                                                              \n",
            "                                                                                                  \n",
            " stage3_unit1_sc (Conv2D)       (None, None, None,   32768       ['stage3_unit1_relu1[0][0]']     \n",
            "                                256)                                                              \n",
            "                                                                                                  \n",
            " add_7 (Add)                    (None, None, None,   0           ['stage3_unit1_conv2[0][0]',     \n",
            "                                256)                              'stage3_unit1_sc[0][0]']        \n",
            "                                                                                                  \n",
            " stage3_unit2_bn1 (BatchNormali  (None, None, None,   1024       ['add_7[0][0]']                  \n",
            " zation)                        256)                                                              \n",
            "                                                                                                  \n",
            " stage3_unit2_relu1 (Activation  (None, None, None,   0          ['stage3_unit2_bn1[0][0]']       \n",
            " )                              256)                                                              \n",
            "                                                                                                  \n",
            " zero_padding2d_18 (ZeroPadding  (None, None, None,   0          ['stage3_unit2_relu1[0][0]']     \n",
            " 2D)                            256)                                                              \n",
            "                                                                                                  \n",
            " stage3_unit2_conv1 (Conv2D)    (None, None, None,   589824      ['zero_padding2d_18[0][0]']      \n",
            "                                256)                                                              \n",
            "                                                                                                  \n",
            " stage3_unit2_bn2 (BatchNormali  (None, None, None,   1024       ['stage3_unit2_conv1[0][0]']     \n",
            " zation)                        256)                                                              \n",
            "                                                                                                  \n",
            " stage3_unit2_relu2 (Activation  (None, None, None,   0          ['stage3_unit2_bn2[0][0]']       \n",
            " )                              256)                                                              \n",
            "                                                                                                  \n",
            " zero_padding2d_19 (ZeroPadding  (None, None, None,   0          ['stage3_unit2_relu2[0][0]']     \n",
            " 2D)                            256)                                                              \n",
            "                                                                                                  \n",
            " stage3_unit2_conv2 (Conv2D)    (None, None, None,   589824      ['zero_padding2d_19[0][0]']      \n",
            "                                256)                                                              \n",
            "                                                                                                  \n",
            " add_8 (Add)                    (None, None, None,   0           ['stage3_unit2_conv2[0][0]',     \n",
            "                                256)                              'add_7[0][0]']                  \n",
            "                                                                                                  \n",
            " stage3_unit3_bn1 (BatchNormali  (None, None, None,   1024       ['add_8[0][0]']                  \n",
            " zation)                        256)                                                              \n",
            "                                                                                                  \n",
            " stage3_unit3_relu1 (Activation  (None, None, None,   0          ['stage3_unit3_bn1[0][0]']       \n",
            " )                              256)                                                              \n",
            "                                                                                                  \n",
            " zero_padding2d_20 (ZeroPadding  (None, None, None,   0          ['stage3_unit3_relu1[0][0]']     \n",
            " 2D)                            256)                                                              \n",
            "                                                                                                  \n",
            " stage3_unit3_conv1 (Conv2D)    (None, None, None,   589824      ['zero_padding2d_20[0][0]']      \n",
            "                                256)                                                              \n",
            "                                                                                                  \n",
            " stage3_unit3_bn2 (BatchNormali  (None, None, None,   1024       ['stage3_unit3_conv1[0][0]']     \n",
            " zation)                        256)                                                              \n",
            "                                                                                                  \n",
            " stage3_unit3_relu2 (Activation  (None, None, None,   0          ['stage3_unit3_bn2[0][0]']       \n",
            " )                              256)                                                              \n",
            "                                                                                                  \n",
            " zero_padding2d_21 (ZeroPadding  (None, None, None,   0          ['stage3_unit3_relu2[0][0]']     \n",
            " 2D)                            256)                                                              \n",
            "                                                                                                  \n",
            " stage3_unit3_conv2 (Conv2D)    (None, None, None,   589824      ['zero_padding2d_21[0][0]']      \n",
            "                                256)                                                              \n",
            "                                                                                                  \n",
            " add_9 (Add)                    (None, None, None,   0           ['stage3_unit3_conv2[0][0]',     \n",
            "                                256)                              'add_8[0][0]']                  \n",
            "                                                                                                  \n",
            " stage3_unit4_bn1 (BatchNormali  (None, None, None,   1024       ['add_9[0][0]']                  \n",
            " zation)                        256)                                                              \n",
            "                                                                                                  \n",
            " stage3_unit4_relu1 (Activation  (None, None, None,   0          ['stage3_unit4_bn1[0][0]']       \n",
            " )                              256)                                                              \n",
            "                                                                                                  \n",
            " zero_padding2d_22 (ZeroPadding  (None, None, None,   0          ['stage3_unit4_relu1[0][0]']     \n",
            " 2D)                            256)                                                              \n",
            "                                                                                                  \n",
            " stage3_unit4_conv1 (Conv2D)    (None, None, None,   589824      ['zero_padding2d_22[0][0]']      \n",
            "                                256)                                                              \n",
            "                                                                                                  \n",
            " stage3_unit4_bn2 (BatchNormali  (None, None, None,   1024       ['stage3_unit4_conv1[0][0]']     \n",
            " zation)                        256)                                                              \n",
            "                                                                                                  \n",
            " stage3_unit4_relu2 (Activation  (None, None, None,   0          ['stage3_unit4_bn2[0][0]']       \n",
            " )                              256)                                                              \n",
            "                                                                                                  \n",
            " zero_padding2d_23 (ZeroPadding  (None, None, None,   0          ['stage3_unit4_relu2[0][0]']     \n",
            " 2D)                            256)                                                              \n",
            "                                                                                                  \n",
            " stage3_unit4_conv2 (Conv2D)    (None, None, None,   589824      ['zero_padding2d_23[0][0]']      \n",
            "                                256)                                                              \n",
            "                                                                                                  \n",
            " add_10 (Add)                   (None, None, None,   0           ['stage3_unit4_conv2[0][0]',     \n",
            "                                256)                              'add_9[0][0]']                  \n",
            "                                                                                                  \n",
            " stage3_unit5_bn1 (BatchNormali  (None, None, None,   1024       ['add_10[0][0]']                 \n",
            " zation)                        256)                                                              \n",
            "                                                                                                  \n",
            " stage3_unit5_relu1 (Activation  (None, None, None,   0          ['stage3_unit5_bn1[0][0]']       \n",
            " )                              256)                                                              \n",
            "                                                                                                  \n",
            " zero_padding2d_24 (ZeroPadding  (None, None, None,   0          ['stage3_unit5_relu1[0][0]']     \n",
            " 2D)                            256)                                                              \n",
            "                                                                                                  \n",
            " stage3_unit5_conv1 (Conv2D)    (None, None, None,   589824      ['zero_padding2d_24[0][0]']      \n",
            "                                256)                                                              \n",
            "                                                                                                  \n",
            " stage3_unit5_bn2 (BatchNormali  (None, None, None,   1024       ['stage3_unit5_conv1[0][0]']     \n",
            " zation)                        256)                                                              \n",
            "                                                                                                  \n",
            " stage3_unit5_relu2 (Activation  (None, None, None,   0          ['stage3_unit5_bn2[0][0]']       \n",
            " )                              256)                                                              \n",
            "                                                                                                  \n",
            " zero_padding2d_25 (ZeroPadding  (None, None, None,   0          ['stage3_unit5_relu2[0][0]']     \n",
            " 2D)                            256)                                                              \n",
            "                                                                                                  \n",
            " stage3_unit5_conv2 (Conv2D)    (None, None, None,   589824      ['zero_padding2d_25[0][0]']      \n",
            "                                256)                                                              \n",
            "                                                                                                  \n",
            " add_11 (Add)                   (None, None, None,   0           ['stage3_unit5_conv2[0][0]',     \n",
            "                                256)                              'add_10[0][0]']                 \n",
            "                                                                                                  \n",
            " stage3_unit6_bn1 (BatchNormali  (None, None, None,   1024       ['add_11[0][0]']                 \n",
            " zation)                        256)                                                              \n",
            "                                                                                                  \n",
            " stage3_unit6_relu1 (Activation  (None, None, None,   0          ['stage3_unit6_bn1[0][0]']       \n",
            " )                              256)                                                              \n",
            "                                                                                                  \n",
            " zero_padding2d_26 (ZeroPadding  (None, None, None,   0          ['stage3_unit6_relu1[0][0]']     \n",
            " 2D)                            256)                                                              \n",
            "                                                                                                  \n",
            " stage3_unit6_conv1 (Conv2D)    (None, None, None,   589824      ['zero_padding2d_26[0][0]']      \n",
            "                                256)                                                              \n",
            "                                                                                                  \n",
            " stage3_unit6_bn2 (BatchNormali  (None, None, None,   1024       ['stage3_unit6_conv1[0][0]']     \n",
            " zation)                        256)                                                              \n",
            "                                                                                                  \n",
            " stage3_unit6_relu2 (Activation  (None, None, None,   0          ['stage3_unit6_bn2[0][0]']       \n",
            " )                              256)                                                              \n",
            "                                                                                                  \n",
            " zero_padding2d_27 (ZeroPadding  (None, None, None,   0          ['stage3_unit6_relu2[0][0]']     \n",
            " 2D)                            256)                                                              \n",
            "                                                                                                  \n",
            " stage3_unit6_conv2 (Conv2D)    (None, None, None,   589824      ['zero_padding2d_27[0][0]']      \n",
            "                                256)                                                              \n",
            "                                                                                                  \n",
            " add_12 (Add)                   (None, None, None,   0           ['stage3_unit6_conv2[0][0]',     \n",
            "                                256)                              'add_11[0][0]']                 \n",
            "                                                                                                  \n",
            " stage4_unit1_bn1 (BatchNormali  (None, None, None,   1024       ['add_12[0][0]']                 \n",
            " zation)                        256)                                                              \n",
            "                                                                                                  \n",
            " stage4_unit1_relu1 (Activation  (None, None, None,   0          ['stage4_unit1_bn1[0][0]']       \n",
            " )                              256)                                                              \n",
            "                                                                                                  \n",
            " zero_padding2d_28 (ZeroPadding  (None, None, None,   0          ['stage4_unit1_relu1[0][0]']     \n",
            " 2D)                            256)                                                              \n",
            "                                                                                                  \n",
            " stage4_unit1_conv1 (Conv2D)    (None, None, None,   1179648     ['zero_padding2d_28[0][0]']      \n",
            "                                512)                                                              \n",
            "                                                                                                  \n",
            " stage4_unit1_bn2 (BatchNormali  (None, None, None,   2048       ['stage4_unit1_conv1[0][0]']     \n",
            " zation)                        512)                                                              \n",
            "                                                                                                  \n",
            " stage4_unit1_relu2 (Activation  (None, None, None,   0          ['stage4_unit1_bn2[0][0]']       \n",
            " )                              512)                                                              \n",
            "                                                                                                  \n",
            " zero_padding2d_29 (ZeroPadding  (None, None, None,   0          ['stage4_unit1_relu2[0][0]']     \n",
            " 2D)                            512)                                                              \n",
            "                                                                                                  \n",
            " stage4_unit1_conv2 (Conv2D)    (None, None, None,   2359296     ['zero_padding2d_29[0][0]']      \n",
            "                                512)                                                              \n",
            "                                                                                                  \n",
            " stage4_unit1_sc (Conv2D)       (None, None, None,   131072      ['stage4_unit1_relu1[0][0]']     \n",
            "                                512)                                                              \n",
            "                                                                                                  \n",
            " add_13 (Add)                   (None, None, None,   0           ['stage4_unit1_conv2[0][0]',     \n",
            "                                512)                              'stage4_unit1_sc[0][0]']        \n",
            "                                                                                                  \n",
            " stage4_unit2_bn1 (BatchNormali  (None, None, None,   2048       ['add_13[0][0]']                 \n",
            " zation)                        512)                                                              \n",
            "                                                                                                  \n",
            " stage4_unit2_relu1 (Activation  (None, None, None,   0          ['stage4_unit2_bn1[0][0]']       \n",
            " )                              512)                                                              \n",
            "                                                                                                  \n",
            " zero_padding2d_30 (ZeroPadding  (None, None, None,   0          ['stage4_unit2_relu1[0][0]']     \n",
            " 2D)                            512)                                                              \n",
            "                                                                                                  \n",
            " stage4_unit2_conv1 (Conv2D)    (None, None, None,   2359296     ['zero_padding2d_30[0][0]']      \n",
            "                                512)                                                              \n",
            "                                                                                                  \n",
            " stage4_unit2_bn2 (BatchNormali  (None, None, None,   2048       ['stage4_unit2_conv1[0][0]']     \n",
            " zation)                        512)                                                              \n",
            "                                                                                                  \n",
            " stage4_unit2_relu2 (Activation  (None, None, None,   0          ['stage4_unit2_bn2[0][0]']       \n",
            " )                              512)                                                              \n",
            "                                                                                                  \n",
            " zero_padding2d_31 (ZeroPadding  (None, None, None,   0          ['stage4_unit2_relu2[0][0]']     \n",
            " 2D)                            512)                                                              \n",
            "                                                                                                  \n",
            " stage4_unit2_conv2 (Conv2D)    (None, None, None,   2359296     ['zero_padding2d_31[0][0]']      \n",
            "                                512)                                                              \n",
            "                                                                                                  \n",
            " add_14 (Add)                   (None, None, None,   0           ['stage4_unit2_conv2[0][0]',     \n",
            "                                512)                              'add_13[0][0]']                 \n",
            "                                                                                                  \n",
            " stage4_unit3_bn1 (BatchNormali  (None, None, None,   2048       ['add_14[0][0]']                 \n",
            " zation)                        512)                                                              \n",
            "                                                                                                  \n",
            " stage4_unit3_relu1 (Activation  (None, None, None,   0          ['stage4_unit3_bn1[0][0]']       \n",
            " )                              512)                                                              \n",
            "                                                                                                  \n",
            " zero_padding2d_32 (ZeroPadding  (None, None, None,   0          ['stage4_unit3_relu1[0][0]']     \n",
            " 2D)                            512)                                                              \n",
            "                                                                                                  \n",
            " stage4_unit3_conv1 (Conv2D)    (None, None, None,   2359296     ['zero_padding2d_32[0][0]']      \n",
            "                                512)                                                              \n",
            "                                                                                                  \n",
            " stage4_unit3_bn2 (BatchNormali  (None, None, None,   2048       ['stage4_unit3_conv1[0][0]']     \n",
            " zation)                        512)                                                              \n",
            "                                                                                                  \n",
            " stage4_unit3_relu2 (Activation  (None, None, None,   0          ['stage4_unit3_bn2[0][0]']       \n",
            " )                              512)                                                              \n",
            "                                                                                                  \n",
            " zero_padding2d_33 (ZeroPadding  (None, None, None,   0          ['stage4_unit3_relu2[0][0]']     \n",
            " 2D)                            512)                                                              \n",
            "                                                                                                  \n",
            " stage4_unit3_conv2 (Conv2D)    (None, None, None,   2359296     ['zero_padding2d_33[0][0]']      \n",
            "                                512)                                                              \n",
            "                                                                                                  \n",
            " add_15 (Add)                   (None, None, None,   0           ['stage4_unit3_conv2[0][0]',     \n",
            "                                512)                              'add_14[0][0]']                 \n",
            "                                                                                                  \n",
            " bn1 (BatchNormalization)       (None, None, None,   2048        ['add_15[0][0]']                 \n",
            "                                512)                                                              \n",
            "                                                                                                  \n",
            " relu1 (Activation)             (None, None, None,   0           ['bn1[0][0]']                    \n",
            "                                512)                                                              \n",
            "                                                                                                  \n",
            " decoder_stage0_upsampling (UpS  (None, None, None,   0          ['relu1[0][0]']                  \n",
            " ampling2D)                     512)                                                              \n",
            "                                                                                                  \n",
            " decoder_stage0_concat (Concate  (None, None, None,   0          ['decoder_stage0_upsampling[0][0]\n",
            " nate)                          768)                             ',                               \n",
            "                                                                  'stage4_unit1_relu1[0][0]']     \n",
            "                                                                                                  \n",
            " decoder_stage0a_conv (Conv2D)  (None, None, None,   1769472     ['decoder_stage0_concat[0][0]']  \n",
            "                                256)                                                              \n",
            "                                                                                                  \n",
            " decoder_stage0a_bn (BatchNorma  (None, None, None,   1024       ['decoder_stage0a_conv[0][0]']   \n",
            " lization)                      256)                                                              \n",
            "                                                                                                  \n",
            " decoder_stage0a_relu (Activati  (None, None, None,   0          ['decoder_stage0a_bn[0][0]']     \n",
            " on)                            256)                                                              \n",
            "                                                                                                  \n",
            " decoder_stage0b_conv (Conv2D)  (None, None, None,   589824      ['decoder_stage0a_relu[0][0]']   \n",
            "                                256)                                                              \n",
            "                                                                                                  \n",
            " decoder_stage0b_bn (BatchNorma  (None, None, None,   1024       ['decoder_stage0b_conv[0][0]']   \n",
            " lization)                      256)                                                              \n",
            "                                                                                                  \n",
            " decoder_stage0b_relu (Activati  (None, None, None,   0          ['decoder_stage0b_bn[0][0]']     \n",
            " on)                            256)                                                              \n",
            "                                                                                                  \n",
            " decoder_stage1_upsampling (UpS  (None, None, None,   0          ['decoder_stage0b_relu[0][0]']   \n",
            " ampling2D)                     256)                                                              \n",
            "                                                                                                  \n",
            " decoder_stage1_concat (Concate  (None, None, None,   0          ['decoder_stage1_upsampling[0][0]\n",
            " nate)                          384)                             ',                               \n",
            "                                                                  'stage3_unit1_relu1[0][0]']     \n",
            "                                                                                                  \n",
            " decoder_stage1a_conv (Conv2D)  (None, None, None,   442368      ['decoder_stage1_concat[0][0]']  \n",
            "                                128)                                                              \n",
            "                                                                                                  \n",
            " decoder_stage1a_bn (BatchNorma  (None, None, None,   512        ['decoder_stage1a_conv[0][0]']   \n",
            " lization)                      128)                                                              \n",
            "                                                                                                  \n",
            " decoder_stage1a_relu (Activati  (None, None, None,   0          ['decoder_stage1a_bn[0][0]']     \n",
            " on)                            128)                                                              \n",
            "                                                                                                  \n",
            " decoder_stage1b_conv (Conv2D)  (None, None, None,   147456      ['decoder_stage1a_relu[0][0]']   \n",
            "                                128)                                                              \n",
            "                                                                                                  \n",
            " decoder_stage1b_bn (BatchNorma  (None, None, None,   512        ['decoder_stage1b_conv[0][0]']   \n",
            " lization)                      128)                                                              \n",
            "                                                                                                  \n",
            " decoder_stage1b_relu (Activati  (None, None, None,   0          ['decoder_stage1b_bn[0][0]']     \n",
            " on)                            128)                                                              \n",
            "                                                                                                  \n",
            " decoder_stage2_upsampling (UpS  (None, None, None,   0          ['decoder_stage1b_relu[0][0]']   \n",
            " ampling2D)                     128)                                                              \n",
            "                                                                                                  \n",
            " decoder_stage2_concat (Concate  (None, None, None,   0          ['decoder_stage2_upsampling[0][0]\n",
            " nate)                          192)                             ',                               \n",
            "                                                                  'stage2_unit1_relu1[0][0]']     \n",
            "                                                                                                  \n",
            " decoder_stage2a_conv (Conv2D)  (None, None, None,   110592      ['decoder_stage2_concat[0][0]']  \n",
            "                                64)                                                               \n",
            "                                                                                                  \n",
            " decoder_stage2a_bn (BatchNorma  (None, None, None,   256        ['decoder_stage2a_conv[0][0]']   \n",
            " lization)                      64)                                                               \n",
            "                                                                                                  \n",
            " decoder_stage2a_relu (Activati  (None, None, None,   0          ['decoder_stage2a_bn[0][0]']     \n",
            " on)                            64)                                                               \n",
            "                                                                                                  \n",
            " decoder_stage2b_conv (Conv2D)  (None, None, None,   36864       ['decoder_stage2a_relu[0][0]']   \n",
            "                                64)                                                               \n",
            "                                                                                                  \n",
            " decoder_stage2b_bn (BatchNorma  (None, None, None,   256        ['decoder_stage2b_conv[0][0]']   \n",
            " lization)                      64)                                                               \n",
            "                                                                                                  \n",
            " decoder_stage2b_relu (Activati  (None, None, None,   0          ['decoder_stage2b_bn[0][0]']     \n",
            " on)                            64)                                                               \n",
            "                                                                                                  \n",
            " decoder_stage3_upsampling (UpS  (None, None, None,   0          ['decoder_stage2b_relu[0][0]']   \n",
            " ampling2D)                     64)                                                               \n",
            "                                                                                                  \n",
            " decoder_stage3_concat (Concate  (None, None, None,   0          ['decoder_stage3_upsampling[0][0]\n",
            " nate)                          128)                             ',                               \n",
            "                                                                  'relu0[0][0]']                  \n",
            "                                                                                                  \n",
            " decoder_stage3a_conv (Conv2D)  (None, None, None,   36864       ['decoder_stage3_concat[0][0]']  \n",
            "                                32)                                                               \n",
            "                                                                                                  \n",
            " decoder_stage3a_bn (BatchNorma  (None, None, None,   128        ['decoder_stage3a_conv[0][0]']   \n",
            " lization)                      32)                                                               \n",
            "                                                                                                  \n",
            " decoder_stage3a_relu (Activati  (None, None, None,   0          ['decoder_stage3a_bn[0][0]']     \n",
            " on)                            32)                                                               \n",
            "                                                                                                  \n",
            " decoder_stage3b_conv (Conv2D)  (None, None, None,   9216        ['decoder_stage3a_relu[0][0]']   \n",
            "                                32)                                                               \n",
            "                                                                                                  \n",
            " decoder_stage3b_bn (BatchNorma  (None, None, None,   128        ['decoder_stage3b_conv[0][0]']   \n",
            " lization)                      32)                                                               \n",
            "                                                                                                  \n",
            " decoder_stage3b_relu (Activati  (None, None, None,   0          ['decoder_stage3b_bn[0][0]']     \n",
            " on)                            32)                                                               \n",
            "                                                                                                  \n",
            " decoder_stage4_upsampling (UpS  (None, None, None,   0          ['decoder_stage3b_relu[0][0]']   \n",
            " ampling2D)                     32)                                                               \n",
            "                                                                                                  \n",
            " decoder_stage4a_conv (Conv2D)  (None, None, None,   4608        ['decoder_stage4_upsampling[0][0]\n",
            "                                16)                              ']                               \n",
            "                                                                                                  \n",
            " decoder_stage4a_bn (BatchNorma  (None, None, None,   64         ['decoder_stage4a_conv[0][0]']   \n",
            " lization)                      16)                                                               \n",
            "                                                                                                  \n",
            " decoder_stage4a_relu (Activati  (None, None, None,   0          ['decoder_stage4a_bn[0][0]']     \n",
            " on)                            16)                                                               \n",
            "                                                                                                  \n",
            " decoder_stage4b_conv (Conv2D)  (None, None, None,   2304        ['decoder_stage4a_relu[0][0]']   \n",
            "                                16)                                                               \n",
            "                                                                                                  \n",
            " decoder_stage4b_bn (BatchNorma  (None, None, None,   64         ['decoder_stage4b_conv[0][0]']   \n",
            " lization)                      16)                                                               \n",
            "                                                                                                  \n",
            " decoder_stage4b_relu (Activati  (None, None, None,   0          ['decoder_stage4b_bn[0][0]']     \n",
            " on)                            16)                                                               \n",
            "                                                                                                  \n",
            " final_conv (Conv2D)            (None, None, None,   290         ['decoder_stage4b_relu[0][0]']   \n",
            "                                2)                                                                \n",
            "                                                                                                  \n",
            " softmax (Activation)           (None, None, None,   0           ['final_conv[0][0]']             \n",
            "                                2)                                                                \n",
            "                                                                                                  \n",
            "==================================================================================================\n",
            "Total params: 24,456,299\n",
            "Trainable params: 24,438,949\n",
            "Non-trainable params: 17,350\n",
            "__________________________________________________________________________________________________\n",
            "None\n"
          ]
        }
      ],
      "source": [
        "###Model \n",
        "BACKBONE = 'resnet34'\n",
        "preprocess_input = sm.get_preprocessing(BACKBONE)\n",
        "\n",
        "# preprocess input\n",
        "X_train_processed = preprocess_input(X_train)\n",
        "X_test_processed = preprocess_input(X_test)\n",
        "# define model\n",
        "model = sm.Unet(BACKBONE, encoder_weights='imagenet', classes=n_classes, activation=activation)\n",
        "\n",
        "# compile keras model with defined optimozer, loss and metrics\n",
        "model.compile(optim, total_loss, metrics=metrics)\n",
        "\n",
        "print(model.summary())"
      ]
    },
    {
      "cell_type": "code",
      "execution_count": 25,
      "metadata": {
        "colab": {
          "base_uri": "https://localhost:8080/"
        },
        "id": "yGZOSveHsAUV",
        "outputId": "7f65d5ce-2215-405a-dae1-5c39ee490c96"
      },
      "outputs": [
        {
          "name": "stdout",
          "output_type": "stream",
          "text": [
            "Epoch 1/25\n",
            "58/58 [==============================] - 21s 105ms/step - loss: 0.4480 - iou_score: 0.5509 - f1-score: 0.6627 - val_loss: 0.5609 - val_iou_score: 0.3988 - val_f1-score: 0.5357\n",
            "Epoch 2/25\n",
            "58/58 [==============================] - 4s 62ms/step - loss: 0.2461 - iou_score: 0.7159 - f1-score: 0.8102 - val_loss: 0.3722 - val_iou_score: 0.6482 - val_f1-score: 0.7530\n",
            "Epoch 3/25\n",
            "58/58 [==============================] - 4s 63ms/step - loss: 0.2201 - iou_score: 0.7256 - f1-score: 0.8191 - val_loss: 0.3576 - val_iou_score: 0.6210 - val_f1-score: 0.7375\n",
            "Epoch 4/25\n",
            "58/58 [==============================] - 4s 64ms/step - loss: 0.1996 - iou_score: 0.7466 - f1-score: 0.8343 - val_loss: 0.1912 - val_iou_score: 0.7662 - val_f1-score: 0.8547\n",
            "Epoch 5/25\n",
            "58/58 [==============================] - 4s 64ms/step - loss: 0.1667 - iou_score: 0.7798 - f1-score: 0.8612 - val_loss: 0.1751 - val_iou_score: 0.7727 - val_f1-score: 0.8575\n",
            "Epoch 6/25\n",
            "58/58 [==============================] - 4s 64ms/step - loss: 0.1397 - iou_score: 0.8103 - f1-score: 0.8846 - val_loss: 0.2539 - val_iou_score: 0.7057 - val_f1-score: 0.8051\n",
            "Epoch 7/25\n",
            "58/58 [==============================] - 4s 70ms/step - loss: 0.1365 - iou_score: 0.8143 - f1-score: 0.8874 - val_loss: 0.1877 - val_iou_score: 0.7544 - val_f1-score: 0.8401\n",
            "Epoch 8/25\n",
            "58/58 [==============================] - 4s 69ms/step - loss: 0.1313 - iou_score: 0.8191 - f1-score: 0.8909 - val_loss: 0.1546 - val_iou_score: 0.7892 - val_f1-score: 0.8698\n",
            "Epoch 9/25\n",
            "58/58 [==============================] - 4s 63ms/step - loss: 0.1097 - iou_score: 0.8455 - f1-score: 0.9093 - val_loss: 0.1871 - val_iou_score: 0.7576 - val_f1-score: 0.8435\n",
            "Epoch 10/25\n",
            "58/58 [==============================] - 4s 65ms/step - loss: 0.0993 - iou_score: 0.8577 - f1-score: 0.9175 - val_loss: 0.2131 - val_iou_score: 0.7387 - val_f1-score: 0.8286\n",
            "Epoch 11/25\n",
            "58/58 [==============================] - 4s 63ms/step - loss: 0.1012 - iou_score: 0.8557 - f1-score: 0.9158 - val_loss: 0.1435 - val_iou_score: 0.8083 - val_f1-score: 0.8836\n",
            "Epoch 12/25\n",
            "58/58 [==============================] - 4s 65ms/step - loss: 0.0979 - iou_score: 0.8595 - f1-score: 0.9190 - val_loss: 0.1574 - val_iou_score: 0.7882 - val_f1-score: 0.8667\n",
            "Epoch 13/25\n",
            "58/58 [==============================] - 4s 65ms/step - loss: 0.0882 - iou_score: 0.8721 - f1-score: 0.9266 - val_loss: 0.1436 - val_iou_score: 0.8069 - val_f1-score: 0.8795\n",
            "Epoch 14/25\n",
            "58/58 [==============================] - 4s 63ms/step - loss: 0.0786 - iou_score: 0.8849 - f1-score: 0.9348 - val_loss: 0.1579 - val_iou_score: 0.7943 - val_f1-score: 0.8713\n",
            "Epoch 15/25\n",
            "58/58 [==============================] - 4s 64ms/step - loss: 0.0744 - iou_score: 0.8899 - f1-score: 0.9383 - val_loss: 0.1585 - val_iou_score: 0.7920 - val_f1-score: 0.8685\n",
            "Epoch 16/25\n",
            "58/58 [==============================] - 4s 65ms/step - loss: 0.0756 - iou_score: 0.8886 - f1-score: 0.9370 - val_loss: 0.1470 - val_iou_score: 0.8035 - val_f1-score: 0.8798\n",
            "Epoch 17/25\n",
            "58/58 [==============================] - 4s 66ms/step - loss: 0.0749 - iou_score: 0.8890 - f1-score: 0.9377 - val_loss: 0.1530 - val_iou_score: 0.7964 - val_f1-score: 0.8744\n",
            "Epoch 18/25\n",
            "58/58 [==============================] - 4s 65ms/step - loss: 0.0812 - iou_score: 0.8807 - f1-score: 0.9324 - val_loss: 0.1648 - val_iou_score: 0.7857 - val_f1-score: 0.8683\n",
            "Epoch 19/25\n",
            "58/58 [==============================] - 4s 65ms/step - loss: 0.0706 - iou_score: 0.8944 - f1-score: 0.9413 - val_loss: 0.1739 - val_iou_score: 0.7782 - val_f1-score: 0.8572\n",
            "Epoch 20/25\n",
            "58/58 [==============================] - 4s 66ms/step - loss: 0.0613 - iou_score: 0.9077 - f1-score: 0.9493 - val_loss: 0.1589 - val_iou_score: 0.7937 - val_f1-score: 0.8680\n",
            "Epoch 21/25\n",
            "58/58 [==============================] - 4s 64ms/step - loss: 0.0584 - iou_score: 0.9111 - f1-score: 0.9510 - val_loss: 0.1644 - val_iou_score: 0.7874 - val_f1-score: 0.8643\n",
            "Epoch 22/25\n",
            "58/58 [==============================] - 4s 65ms/step - loss: 0.0528 - iou_score: 0.9190 - f1-score: 0.9561 - val_loss: 0.1497 - val_iou_score: 0.8009 - val_f1-score: 0.8749\n",
            "Epoch 23/25\n",
            "58/58 [==============================] - 4s 66ms/step - loss: 0.0477 - iou_score: 0.9263 - f1-score: 0.9603 - val_loss: 0.1611 - val_iou_score: 0.7949 - val_f1-score: 0.8712\n",
            "Epoch 24/25\n",
            "58/58 [==============================] - 4s 64ms/step - loss: 0.0463 - iou_score: 0.9288 - f1-score: 0.9615 - val_loss: 0.1525 - val_iou_score: 0.8029 - val_f1-score: 0.8779\n",
            "Epoch 25/25\n",
            "58/58 [==============================] - 4s 64ms/step - loss: 0.0450 - iou_score: 0.9290 - f1-score: 0.9618 - val_loss: 0.1520 - val_iou_score: 0.8028 - val_f1-score: 0.8761\n"
          ]
        }
      ],
      "source": [
        "import time\n",
        "start=time.time()\n",
        "history=model.fit(X_train_processed, \n",
        "          y_train_cat,\n",
        "          batch_size=8, \n",
        "          epochs=25,\n",
        "          verbose=1,\n",
        "          validation_data=(X_test_processed, y_test_cat))\n",
        "end=time.time()\n",
        "execution=end-start"
      ]
    },
    {
      "cell_type": "code",
      "execution_count": 26,
      "metadata": {
        "colab": {
          "base_uri": "https://localhost:8080/"
        },
        "id": "ukHlENoU_PQh",
        "outputId": "f92e86f8-6467-4baf-c270-9f6ad71e5557"
      },
      "outputs": [
        {
          "name": "stdout",
          "output_type": "stream",
          "text": [
            "Time  147.4  seconds\n"
          ]
        }
      ],
      "source": [
        "print(\"Time \",round(execution,1),\" seconds\")"
      ]
    },
    {
      "cell_type": "code",
      "execution_count": null,
      "metadata": {
        "id": "q3JjADTgAu_l"
      },
      "outputs": [],
      "source": [
        "# model.load_weights('C:\\\\Users\\Sherif Essam\\\\OneDrive\\\\Desktop\\\\segm\\\\breastweights.h5')"
      ]
    },
    {
      "cell_type": "code",
      "execution_count": 27,
      "metadata": {
        "colab": {
          "base_uri": "https://localhost:8080/"
        },
        "id": "Wjckgi-qtQIE",
        "outputId": "fed4fdc1-eb94-4895-9264-9cc046a78fe1"
      },
      "outputs": [
        {
          "name": "stdout",
          "output_type": "stream",
          "text": [
            "4/4 [==============================] - 2s 246ms/step\n"
          ]
        }
      ],
      "source": [
        "from keras.metrics import MeanIoU\n",
        "y_pred=model.predict(X_test_processed)\n",
        "y_pred_argmax=np.argmax(y_pred, axis=3)"
      ]
    },
    {
      "cell_type": "code",
      "execution_count": 28,
      "metadata": {
        "colab": {
          "base_uri": "https://localhost:8080/"
        },
        "id": "FgRTxMpO4zQH",
        "outputId": "858e5331-e60e-46db-cb01-b2beb937012c"
      },
      "outputs": [
        {
          "name": "stdout",
          "output_type": "stream",
          "text": [
            "(116, 128, 128, 3)\n",
            "(116, 128, 128, 1) (116, 128, 128)\n"
          ]
        }
      ],
      "source": [
        "print(X_test_processed.shape)\n",
        "print(y_test.shape,y_pred_argmax.shape)"
      ]
    },
    {
      "cell_type": "code",
      "execution_count": 29,
      "metadata": {
        "id": "6npmM5o7tPIA"
      },
      "outputs": [],
      "source": [
        "def IOU_evaluation(y_test,y_pred):\n",
        "  n_classes = 2\n",
        "  IOU_keras = MeanIoU(num_classes=n_classes)  \n",
        "  IOU_keras.update_state(y_test[:,:,:,0], y_pred)\n",
        "  print(\"Mean IoU =\", IOU_keras.result().numpy())\n"
      ]
    },
    {
      "cell_type": "code",
      "execution_count": 30,
      "metadata": {
        "colab": {
          "base_uri": "https://localhost:8080/"
        },
        "id": "WZc7e_v8AFw4",
        "outputId": "28d92650-749c-46ec-cb1d-28ff83eec615"
      },
      "outputs": [
        {
          "name": "stdout",
          "output_type": "stream",
          "text": [
            "Mean IoU = 0.7996355\n"
          ]
        }
      ],
      "source": [
        "IOU_evaluation(y_test,y_pred_argmax)"
      ]
    },
    {
      "cell_type": "code",
      "execution_count": 31,
      "metadata": {
        "colab": {
          "base_uri": "https://localhost:8080/",
          "height": 261
        },
        "id": "1mzCirqmskHB",
        "outputId": "e3792620-1707-40d2-b201-2de5162c773f"
      },
      "outputs": [
        {
          "data": {
            "image/png": "[encoded data removed]",
            "text/plain": [
              "<Figure size 864x576 with 3 Axes>"
            ]
          },
          "metadata": {
            "needs_background": "light"
          },
          "output_type": "display_data"
        }
      ],
      "source": [
        "import random\n",
        "img_number = random.randint(0, len(X_test_processed)-1)\n",
        "img = X_test_processed[img_number]\n",
        "mask = y_test[img_number]\n",
        "prediction = y_pred_argmax[img_number]\n",
        "\n",
        "\n",
        "plt.figure(figsize=(12, 8))\n",
        "plt.subplot(231)\n",
        "plt.title('Image')\n",
        "plt.imshow(img, cmap='gray')\n",
        "plt.subplot(232)\n",
        "plt.title('Mask')\n",
        "plt.imshow(mask[:,:,0])\n",
        "plt.subplot(233)\n",
        "plt.title('Prediction')\n",
        "plt.imshow(prediction)\n",
        "plt.show()"
      ]
    },
    {
      "cell_type": "code",
      "execution_count": 32,
      "metadata": {
        "colab": {
          "base_uri": "https://localhost:8080/"
        },
        "id": "_jiQ9loCrquV",
        "outputId": "8f3c72e8-1933-496c-a0be-4516936660bd"
      },
      "outputs": [
        {
          "name": "stdout",
          "output_type": "stream",
          "text": [
            "424  39 39\n"
          ]
        }
      ],
      "source": [
        "image_dataset_benign,mask_dataset_benign=load_images(benign_Test)\n",
        "print(len(image_dataset_benign),len(mask_dataset_benign))"
      ]
    },
    {
      "cell_type": "code",
      "execution_count": 33,
      "metadata": {
        "colab": {
          "base_uri": "https://localhost:8080/"
        },
        "id": "55DTxH9srvlG",
        "outputId": "d9973b2d-090f-4bf7-a94f-65865ee7ace0"
      },
      "outputs": [
        {
          "name": "stdout",
          "output_type": "stream",
          "text": [
            "30 30\n"
          ]
        }
      ],
      "source": [
        "image_dataset_malignant,mask_dataset_malignant=load_images(malignant_Test)\n",
        "print(len(image_dataset_malignant),len(mask_dataset_malignant))"
      ]
    },
    {
      "cell_type": "code",
      "execution_count": 34,
      "metadata": {
        "id": "j2Oh0XOH88ma"
      },
      "outputs": [],
      "source": [
        "image_dataset2=np.concatenate((image_dataset_benign, image_dataset_malignant), axis=0)\n",
        "mask_dataset2=np.concatenate((mask_dataset_benign, mask_dataset_malignant), axis=0)"
      ]
    },
    {
      "cell_type": "code",
      "execution_count": 35,
      "metadata": {
        "colab": {
          "base_uri": "https://localhost:8080/"
        },
        "id": "Pbt2deUU07u_",
        "outputId": "a2b3b239-ebc2-4368-f083-ca5f7c5352f7"
      },
      "outputs": [
        {
          "name": "stdout",
          "output_type": "stream",
          "text": [
            "69\n",
            "69\n"
          ]
        }
      ],
      "source": [
        "print(len(image_dataset2))\n",
        "print(len(mask_dataset2))"
      ]
    },
    {
      "cell_type": "code",
      "execution_count": 36,
      "metadata": {
        "colab": {
          "base_uri": "https://localhost:8080/"
        },
        "id": "aMe_kZZm05Zw",
        "outputId": "1d041a21-b603-4275-b7c7-febd08e7b759"
      },
      "outputs": [
        {
          "name": "stdout",
          "output_type": "stream",
          "text": [
            "[0 1]\n",
            "(69, 128, 128, 1)\n"
          ]
        },
        {
          "name": "stderr",
          "output_type": "stream",
          "text": [
            "/usr/local/lib/python3.8/dist-packages/sklearn/preprocessing/_label.py:115: DataConversionWarning: A column-vector y was passed when a 1d array was expected. Please change the shape of y to (n_samples, ), for example using ravel().\n",
            "  y = column_or_1d(y, warn=True)\n"
          ]
        }
      ],
      "source": [
        "mask_dataset_encoded=encode(mask_dataset2)"
      ]
    },
    {
      "cell_type": "code",
      "execution_count": null,
      "metadata": {
        "id": "2M59LOQV1QvH"
      },
      "outputs": [],
      "source": [
        "# image_dataset2 = image_dataset2 /255."
      ]
    },
    {
      "cell_type": "code",
      "execution_count": 37,
      "metadata": {
        "colab": {
          "base_uri": "https://localhost:8080/"
        },
        "id": "SpCDErfq12n6",
        "outputId": "f5fd9373-b6ca-4e37-c340-b1abc6bcbb59"
      },
      "outputs": [
        {
          "data": {
            "text/plain": [
              "(69, 128, 128, 3)"
            ]
          },
          "execution_count": 37,
          "metadata": {},
          "output_type": "execute_result"
        }
      ],
      "source": [
        "X_processed = preprocess_input(image_dataset2)\n",
        "X_processed.shape"
      ]
    },
    {
      "cell_type": "code",
      "execution_count": 46,
      "metadata": {
        "colab": {
          "base_uri": "https://localhost:8080/"
        },
        "id": "T5VyQ-Gu16Fe",
        "outputId": "627d35dc-345c-43b3-a7fe-62feef3597f5"
      },
      "outputs": [
        {
          "name": "stdout",
          "output_type": "stream",
          "text": [
            "3/3 [==============================] - 0s 53ms/step\n",
            "Time  0.2  seconds\n"
          ]
        }
      ],
      "source": [
        "start=time.time()\n",
        "y_pred2=model.predict(X_processed)\n",
        "y_pred_argmax2=np.argmax(y_pred2, axis=3)\n",
        "end=time.time()\n",
        "execution=end-start\n",
        "print(\"Time \",round(execution,1),\" seconds\")"
      ]
    },
    {
      "cell_type": "code",
      "execution_count": 39,
      "metadata": {
        "colab": {
          "base_uri": "https://localhost:8080/"
        },
        "id": "6ivQHA4i2wyf",
        "outputId": "365fe0a9-9319-470a-cecc-6ad50b0483e8"
      },
      "outputs": [
        {
          "data": {
            "text/plain": [
              "(69, 128, 128)"
            ]
          },
          "execution_count": 39,
          "metadata": {},
          "output_type": "execute_result"
        }
      ],
      "source": [
        "y_pred_argmax2.shape"
      ]
    },
    {
      "cell_type": "code",
      "execution_count": 40,
      "metadata": {
        "colab": {
          "base_uri": "https://localhost:8080/"
        },
        "id": "5tWfCYXy4Fkz",
        "outputId": "2573e4d6-5172-4a78-ebb8-fd277d0dc07e"
      },
      "outputs": [
        {
          "name": "stdout",
          "output_type": "stream",
          "text": [
            "(69, 128, 128, 1) (69, 128, 128)\n"
          ]
        }
      ],
      "source": [
        "print(mask_dataset_encoded.shape,y_pred_argmax2.shape)\n"
      ]
    },
    {
      "cell_type": "code",
      "execution_count": null,
      "metadata": {
        "colab": {
          "base_uri": "https://localhost:8080/"
        },
        "id": "cjdnm4ZR2Igv",
        "outputId": "c4cb80f2-c446-498f-9f19-eb3a524a4896"
      },
      "outputs": [
        {
          "name": "stdout",
          "output_type": "stream",
          "text": [
            "Mean IoU = 0.7470907\n"
          ]
        }
      ],
      "source": [
        "IOU_evaluation(mask_dataset_encoded,y_pred_argmax2)"
      ]
    },
    {
      "cell_type": "code",
      "execution_count": 43,
      "metadata": {
        "colab": {
          "base_uri": "https://localhost:8080/",
          "height": 278
        },
        "id": "vYextVLB7YeD",
        "outputId": "b485f8ca-f0b4-420e-a874-9b19af20dc19"
      },
      "outputs": [
        {
          "name": "stdout",
          "output_type": "stream",
          "text": [
            "(128, 128, 1)\n"
          ]
        },
        {
          "data": {
            "image/png": "[encoded data removed]",
            "text/plain": [
              "<Figure size 864x576 with 3 Axes>"
            ]
          },
          "metadata": {
            "needs_background": "light"
          },
          "output_type": "display_data"
        }
      ],
      "source": [
        "\n",
        "img_number = random.randint(0, len(X_processed)-1)\n",
        "img = X_processed[img_number]\n",
        "mask = mask_dataset_encoded[img_number]\n",
        "prediction = y_pred_argmax2[img_number]\n",
        "print(mask.shape)\n",
        "\n",
        "plt.figure(figsize=(12, 8))\n",
        "plt.subplot(231)\n",
        "plt.title('Image')\n",
        "plt.imshow(img,cmap='gray')\n",
        "plt.subplot(232)\n",
        "plt.title('Mask')\n",
        "plt.imshow(mask[:,:,0])\n",
        "plt.subplot(233)\n",
        "plt.title('Prediction')\n",
        "plt.imshow(prediction)\n",
        "plt.show()"
      ]
    },
    {
      "cell_type": "code",
      "execution_count": 44,
      "metadata": {
        "colab": {
          "base_uri": "https://localhost:8080/",
          "height": 303
        },
        "id": "eOn44ED8AiTj",
        "outputId": "24388291-c400-461d-be9b-95656e71bdaa"
      },
      "outputs": [
        {
          "name": "stdout",
          "output_type": "stream",
          "text": [
            "81 X 115 pixels\n"
          ]
        },
        {
          "data": {
            "text/plain": [
              "<matplotlib.image.AxesImage at 0x7f592c95eb80>"
            ]
          },
          "execution_count": 44,
          "metadata": {},
          "output_type": "execute_result"
        },
        {
          "data": {
            "image/png": "[encoded data removed]",
            "text/plain": [
              "<Figure size 432x288 with 1 Axes>"
            ]
          },
          "metadata": {
            "needs_background": "light"
          },
          "output_type": "display_data"
        }
      ],
      "source": [
        "x_min=999\n",
        "x_max=0\n",
        "y_min=999\n",
        "y_max=0\n",
        "for i in range(len(prediction)):\n",
        "  for j in range(len(prediction[0])):\n",
        "    if prediction[i][j]==1:\n",
        "      if i>y_max:\n",
        "        y_max=i\n",
        "      if i<y_min:\n",
        "        y_min=i\n",
        "      if j>x_max:\n",
        "        x_max=j\n",
        "      if j<x_min:\n",
        "        x_min=j\n",
        "# print(x_min,x_max,y_min,y_max)\n",
        "print(y_max-y_min,'X',x_max-x_min,'pixels')\n",
        "plt.imshow(prediction[y_min:y_max,x_min:x_max])"
      ]
    },
    {
      "cell_type": "code",
      "execution_count": null,
      "metadata": {
        "id": "MpVbulL1INAz"
      },
      "outputs": [],
      "source": [
        "# model.save_weights('breastweights.h5')"
      ]
    }
  ],
  "metadata": {
    "accelerator": "GPU",
    "colab": {
      "provenance": []
    },
    "gpuClass": "standard",
    "kernelspec": {
      "display_name": "Python 3",
      "language": "python",
      "name": "python3"
    },
    "language_info": {
      "name": "python",
      "version": "3.9.7 (tags/v3.9.7:1016ef3, Aug 30 2021, 20:19:38) [MSC v.1929 64 bit (AMD64)]"
    },
    "vscode": {
      "interpreter": {
        "hash": "3245ce477dff5cab7f388d292584ba488c55a0cd8d40c4a02b6e4feb24e4cbf0"
      }
    }
  },
  "nbformat": 4,
  "nbformat_minor": 0
}
