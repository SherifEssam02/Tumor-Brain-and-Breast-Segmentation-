{
  "cells": [
    {
      "cell_type": "code",
      "execution_count": 2,
      "metadata": {
        "id": "qhvr3rgUK0XM"
      },
      "outputs": [],
      "source": [
        "# from zipfile import ZipFile\n",
        "# with ZipFile('/content/gdrive/MyDrive/Dataset.zip', 'r') as zipObj:\n",
        "#   # Extract all the contents of zip file in current directory\n",
        "#    zipObj.extractall()"
      ]
    },
    {
      "cell_type": "code",
      "execution_count": 1,
      "metadata": {
        "colab": {
          "base_uri": "https://localhost:8080/"
        },
        "id": "VgMN3kWrK4MY",
        "outputId": "b483d0c1-5c6f-4b5f-d427-1f9ffd096be6"
      },
      "outputs": [
        {
          "name": "stdout",
          "output_type": "stream",
          "text": [
            "Mounted at /content/gdrive\n"
          ]
        }
      ],
      "source": [
        "# from google.colab import drive\n",
        "# drive.mount('/content/gdrive')"
      ]
    },
    {
      "cell_type": "code",
      "execution_count": 3,
      "metadata": {
        "colab": {
          "base_uri": "https://localhost:8080/"
        },
        "id": "UyotZrFULEjG",
        "outputId": "9393e7f6-adfa-43a8-9327-d12cdcb156bf"
      },
      "outputs": [
        {
          "name": "stdout",
          "output_type": "stream",
          "text": [
            "Looking in indexes: https://pypi.org/simple, https://us-python.pkg.dev/colab-wheels/public/simple/\n",
            "Collecting segmentation-models\n",
            "  Downloading segmentation_models-1.0.1-py3-none-any.whl (33 kB)\n",
            "Collecting image-classifiers==1.0.0\n",
            "  Downloading image_classifiers-1.0.0-py3-none-any.whl (19 kB)\n",
            "Collecting efficientnet==1.0.0\n",
            "  Downloading efficientnet-1.0.0-py3-none-any.whl (17 kB)\n",
            "Collecting keras-applications<=1.0.8,>=1.0.7\n",
            "  Downloading Keras_Applications-1.0.8-py3-none-any.whl (50 kB)\n",
            "\u001b[K     |████████████████████████████████| 50 kB 7.7 MB/s \n",
            "\u001b[?25hRequirement already satisfied: scikit-image in /usr/local/lib/python3.8/dist-packages (from efficientnet==1.0.0->segmentation-models) (0.18.3)\n",
            "Requirement already satisfied: h5py in /usr/local/lib/python3.8/dist-packages (from keras-applications<=1.0.8,>=1.0.7->segmentation-models) (3.1.0)\n",
            "Requirement already satisfied: numpy>=1.9.1 in /usr/local/lib/python3.8/dist-packages (from keras-applications<=1.0.8,>=1.0.7->segmentation-models) (1.21.6)\n",
            "Requirement already satisfied: scipy>=1.0.1 in /usr/local/lib/python3.8/dist-packages (from scikit-image->efficientnet==1.0.0->segmentation-models) (1.7.3)\n",
            "Requirement already satisfied: pillow!=7.1.0,!=7.1.1,>=4.3.0 in /usr/local/lib/python3.8/dist-packages (from scikit-image->efficientnet==1.0.0->segmentation-models) (7.1.2)\n",
            "Requirement already satisfied: PyWavelets>=1.1.1 in /usr/local/lib/python3.8/dist-packages (from scikit-image->efficientnet==1.0.0->segmentation-models) (1.4.1)\n",
            "Requirement already satisfied: tifffile>=2019.7.26 in /usr/local/lib/python3.8/dist-packages (from scikit-image->efficientnet==1.0.0->segmentation-models) (2022.10.10)\n",
            "Requirement already satisfied: matplotlib!=3.0.0,>=2.0.0 in /usr/local/lib/python3.8/dist-packages (from scikit-image->efficientnet==1.0.0->segmentation-models) (3.2.2)\n",
            "Requirement already satisfied: networkx>=2.0 in /usr/local/lib/python3.8/dist-packages (from scikit-image->efficientnet==1.0.0->segmentation-models) (2.8.8)\n",
            "Requirement already satisfied: imageio>=2.3.0 in /usr/local/lib/python3.8/dist-packages (from scikit-image->efficientnet==1.0.0->segmentation-models) (2.9.0)\n",
            "Requirement already satisfied: python-dateutil>=2.1 in /usr/local/lib/python3.8/dist-packages (from matplotlib!=3.0.0,>=2.0.0->scikit-image->efficientnet==1.0.0->segmentation-models) (2.8.2)\n",
            "Requirement already satisfied: pyparsing!=2.0.4,!=2.1.2,!=2.1.6,>=2.0.1 in /usr/local/lib/python3.8/dist-packages (from matplotlib!=3.0.0,>=2.0.0->scikit-image->efficientnet==1.0.0->segmentation-models) (3.0.9)\n",
            "Requirement already satisfied: cycler>=0.10 in /usr/local/lib/python3.8/dist-packages (from matplotlib!=3.0.0,>=2.0.0->scikit-image->efficientnet==1.0.0->segmentation-models) (0.11.0)\n",
            "Requirement already satisfied: kiwisolver>=1.0.1 in /usr/local/lib/python3.8/dist-packages (from matplotlib!=3.0.0,>=2.0.0->scikit-image->efficientnet==1.0.0->segmentation-models) (1.4.4)\n",
            "Requirement already satisfied: six>=1.5 in /usr/local/lib/python3.8/dist-packages (from python-dateutil>=2.1->matplotlib!=3.0.0,>=2.0.0->scikit-image->efficientnet==1.0.0->segmentation-models) (1.15.0)\n",
            "Installing collected packages: keras-applications, image-classifiers, efficientnet, segmentation-models\n",
            "Successfully installed efficientnet-1.0.0 image-classifiers-1.0.0 keras-applications-1.0.8 segmentation-models-1.0.1\n"
          ]
        }
      ],
      "source": [
        "# %pip install -U segmentation-models"
      ]
    },
    {
      "cell_type": "code",
      "execution_count": 4,
      "metadata": {
        "colab": {
          "base_uri": "https://localhost:8080/"
        },
        "id": "sgFi2Yz3a_xE",
        "outputId": "71744d24-9b6e-4943-c7da-29ad4892d250"
      },
      "outputs": [
        {
          "name": "stdout",
          "output_type": "stream",
          "text": [
            "Segmentation Models: using `keras` framework.\n"
          ]
        }
      ],
      "source": [
        "import segmentation_models as sm"
      ]
    },
    {
      "cell_type": "code",
      "execution_count": null,
      "metadata": {
        "id": "vZ8MmR4ZbzeX"
      },
      "outputs": [],
      "source": [
        "size_x,size_y,classes=128,128,2\n",
        "num_images = 500"
      ]
    },
    {
      "cell_type": "code",
      "execution_count": 5,
      "metadata": {
        "id": "FfPI32DpcrhI"
      },
      "outputs": [],
      "source": [
        "import os\n",
        "import glob\n",
        "import cv2\n",
        "import numpy as np\n",
        "from matplotlib import pyplot as plt"
      ]
    },
    {
      "cell_type": "code",
      "execution_count": 6,
      "metadata": {
        "id": "LzlzmK5gdC1-"
      },
      "outputs": [],
      "source": [
        "image_names = glob.glob(\"D:\\\\university\\\\Dataset\\\\Dataset\\\\Brain scans\\\\Tumor\\\\TRAIN\\\\*.jpg\")\n",
        "image_names.sort()\n",
        "images = [cv2.resize(cv2.imread(image, 1), (128, 128)) for image in image_names] #SM backbones use 3 channel images, so let us read images in color.\n",
        "image_dataset = np.array(images)"
      ]
    },
    {
      "cell_type": "code",
      "execution_count": 7,
      "metadata": {
        "colab": {
          "base_uri": "https://localhost:8080/"
        },
        "id": "r_uDC_rUdvEi",
        "outputId": "6f121629-7707-4926-a39b-dfe3b7263cc8"
      },
      "outputs": [
        {
          "data": {
            "text/plain": [
              "500"
            ]
          },
          "execution_count": 7,
          "metadata": {},
          "output_type": "execute_result"
        }
      ],
      "source": [
        "len(image_dataset)"
      ]
    },
    {
      "cell_type": "code",
      "execution_count": 8,
      "metadata": {
        "colab": {
          "base_uri": "https://localhost:8080/"
        },
        "id": "BIwZqtgodww_",
        "outputId": "7f1f5b0d-a128-4b2e-bc8e-f46d7a518d88"
      },
      "outputs": [
        {
          "name": "stdout",
          "output_type": "stream",
          "text": [
            "[  0 255]\n"
          ]
        }
      ],
      "source": [
        "mask_names = glob.glob(\"D:\\\\university\\\\Dataset\\\\Dataset\\\\Brain scans\\\\Tumor\\\\TRAIN_masks\\\\*.png\")\n",
        "mask_names.sort()\n",
        "masks=[]\n",
        "for mask in mask_names:\n",
        "  ret,thresh =cv2.threshold(cv2.resize(cv2.imread(mask, 0),(128,128)),55,255,0)\n",
        "  masks.append(thresh)\n",
        "mask_dataset = np.array(masks)\n",
        "print(np.unique(np.array(masks)))"
      ]
    },
    {
      "cell_type": "code",
      "execution_count": 9,
      "metadata": {
        "colab": {
          "base_uri": "https://localhost:8080/"
        },
        "id": "8-2WNONhfBVO",
        "outputId": "96b95d36-9ec8-48cc-ea81-3b370434442f"
      },
      "outputs": [
        {
          "data": {
            "text/plain": [
              "500"
            ]
          },
          "execution_count": 9,
          "metadata": {},
          "output_type": "execute_result"
        }
      ],
      "source": [
        "len(mask_dataset)"
      ]
    },
    {
      "cell_type": "code",
      "execution_count": 10,
      "metadata": {
        "colab": {
          "base_uri": "https://localhost:8080/"
        },
        "id": "ASNeDNaffEki",
        "outputId": "d2061a73-ba18-4bb4-cdb8-a3bf5313a25a"
      },
      "outputs": [
        {
          "name": "stdout",
          "output_type": "stream",
          "text": [
            "Total images in the original dataset are:  500\n",
            "Image data shape is:  (500, 128, 128, 3)\n",
            "Mask data shape is:  (500, 128, 128)\n",
            "Max pixel value in image is:  255\n",
            "Labels in the mask are :  [  0 255]\n"
          ]
        }
      ],
      "source": [
        "print(\"Total images in the original dataset are: \", len(image_names))\n",
        "print(\"Image data shape is: \", image_dataset.shape)\n",
        "print(\"Mask data shape is: \", mask_dataset.shape)\n",
        "print(\"Max pixel value in image is: \", image_dataset.max())\n",
        "print(\"Labels in the mask are : \", np.unique(mask_dataset))"
      ]
    },
    {
      "cell_type": "code",
      "execution_count": 11,
      "metadata": {
        "colab": {
          "base_uri": "https://localhost:8080/",
          "height": 285
        },
        "id": "D1hR9xK1i58j",
        "outputId": "a9b5f981-6272-495f-fd42-a895ca9cdafe"
      },
      "outputs": [
        {
          "data": {
            "text/plain": [
              "<matplotlib.image.AxesImage at 0x7f4a7c289250>"
            ]
          },
          "execution_count": 11,
          "metadata": {},
          "output_type": "execute_result"
        },
        {
          "data": {
            "image/png": "[encoded data removed]",
            "text/plain": [
              "<Figure size 432x288 with 1 Axes>"
            ]
          },
          "metadata": {
            "needs_background": "light"
          },
          "output_type": "display_data"
        }
      ],
      "source": [
        "plt.imshow(mask_dataset[0])"
      ]
    },
    {
      "cell_type": "code",
      "execution_count": 12,
      "metadata": {
        "colab": {
          "base_uri": "https://localhost:8080/"
        },
        "id": "CX2vpfswmL4O",
        "outputId": "988c521a-3295-4190-e0ed-48626a736b38"
      },
      "outputs": [
        {
          "name": "stderr",
          "output_type": "stream",
          "text": [
            "/usr/local/lib/python3.8/dist-packages/sklearn/preprocessing/_label.py:115: DataConversionWarning: A column-vector y was passed when a 1d array was expected. Please change the shape of y to (n_samples, ), for example using ravel().\n",
            "  y = column_or_1d(y, warn=True)\n"
          ]
        },
        {
          "data": {
            "text/plain": [
              "array([0, 1])"
            ]
          },
          "execution_count": 12,
          "metadata": {},
          "output_type": "execute_result"
        }
      ],
      "source": [
        "from sklearn.preprocessing import LabelEncoder\n",
        "labelencoder = LabelEncoder()\n",
        "n, h, w = mask_dataset.shape  \n",
        "mask_dataset_reshaped = mask_dataset.reshape(-1,1)\n",
        "mask_dataset_reshaped_encoded = labelencoder.fit_transform(mask_dataset_reshaped)\n",
        "mask_dataset_encoded = mask_dataset_reshaped_encoded.reshape(n, h, w)\n",
        "\n",
        "np.unique(mask_dataset_encoded)\n",
        "     "
      ]
    },
    {
      "cell_type": "code",
      "execution_count": 13,
      "metadata": {
        "colab": {
          "base_uri": "https://localhost:8080/"
        },
        "id": "tG8bFY5VqRtI",
        "outputId": "41672b44-bde1-422c-b3b4-dd6ae549c34d"
      },
      "outputs": [
        {
          "name": "stdout",
          "output_type": "stream",
          "text": [
            "(500, 128, 128, 1)\n"
          ]
        }
      ],
      "source": [
        "mask_dataset_encoded = np.expand_dims(mask_dataset_encoded, axis = 3)\n",
        "print(mask_dataset_encoded.shape)"
      ]
    },
    {
      "cell_type": "code",
      "execution_count": 14,
      "metadata": {
        "id": "5x3K7-rUqUq3"
      },
      "outputs": [],
      "source": [
        "image_dataset = image_dataset /255."
      ]
    },
    {
      "cell_type": "code",
      "execution_count": 15,
      "metadata": {
        "id": "g8zTOTFwrHBo"
      },
      "outputs": [],
      "source": [
        "#Split training data\n",
        "from sklearn.model_selection import train_test_split\n",
        "X_train, X_test, y_train, y_test = train_test_split(image_dataset, mask_dataset_encoded, test_size = 0.2, random_state = 42)"
      ]
    },
    {
      "cell_type": "code",
      "execution_count": 16,
      "metadata": {
        "id": "GhwbY0OwrKzN"
      },
      "outputs": [],
      "source": [
        "from tensorflow.keras.utils import to_categorical\n",
        "train_masks_cat = to_categorical(y_train, num_classes=2)\n",
        "y_train_cat = train_masks_cat.reshape((y_train.shape[0], y_train.shape[1], y_train.shape[2], 2))\n",
        "\n",
        "test_masks_cat = to_categorical(y_test, num_classes=2)\n",
        "y_test_cat = test_masks_cat.reshape((y_test.shape[0], y_test.shape[1], y_test.shape[2], 2))\n"
      ]
    },
    {
      "cell_type": "code",
      "execution_count": 17,
      "metadata": {
        "colab": {
          "base_uri": "https://localhost:8080/"
        },
        "id": "IC4pFbBRrYzd",
        "outputId": "18dbfa7f-bcd7-4ac8-d737-4314b436b7a6"
      },
      "outputs": [
        {
          "name": "stdout",
          "output_type": "stream",
          "text": [
            "(400, 128, 128, 2)\n",
            "(100, 128, 128, 2)\n"
          ]
        }
      ],
      "source": [
        "\n",
        "print(y_train_cat.shape)\n",
        "\n",
        "print(test_masks_cat.shape)"
      ]
    },
    {
      "cell_type": "code",
      "execution_count": 18,
      "metadata": {
        "id": "2aR0QYxLrj0-"
      },
      "outputs": [],
      "source": [
        "#Reused parameters in all models\n",
        "import tensorflow\n",
        "n_classes=2\n",
        "activation='softmax'\n",
        "\n",
        "LR = 0.0001\n",
        "optim = tensorflow.keras.optimizers.Adam(LR)\n",
        "\n",
        "# Segmentation models losses can be combined together by '+' and scaled by integer or float factor\n",
        "dice_loss = sm.losses.DiceLoss() \n",
        "focal_loss = sm.losses.CategoricalFocalLoss()\n",
        "total_loss = dice_loss + (1 * focal_loss)\n",
        "\n",
        "\n",
        "metrics = [sm.metrics.IOUScore(threshold=0.5), sm.metrics.FScore(threshold=0.5)]"
      ]
    },
    {
      "cell_type": "code",
      "execution_count": 19,
      "metadata": {
        "colab": {
          "base_uri": "https://localhost:8080/"
        },
        "id": "bFsLqGdArroa",
        "outputId": "ec5254c8-78cf-41c4-c36b-fb5e8371cdc1"
      },
      "outputs": [
        {
          "name": "stdout",
          "output_type": "stream",
          "text": [
            "Downloading data from https://github.com/qubvel/classification_models/releases/download/0.0.1/resnet34_imagenet_1000_no_top.h5\n",
            "85521592/85521592 [==============================] - 6s 0us/step\n",
            "Model: \"model_1\"\n",
            "__________________________________________________________________________________________________\n",
            " Layer (type)                   Output Shape         Param #     Connected to                     \n",
            "==================================================================================================\n",
            " data (InputLayer)              [(None, None, None,  0           []                               \n",
            "                                 3)]                                                              \n",
            "                                                                                                  \n",
            " bn_data (BatchNormalization)   (None, None, None,   9           ['data[0][0]']                   \n",
            "                                3)                                                                \n",
            "                                                                                                  \n",
            " zero_padding2d (ZeroPadding2D)  (None, None, None,   0          ['bn_data[0][0]']                \n",
            "                                3)                                                                \n",
            "                                                                                                  \n",
            " conv0 (Conv2D)                 (None, None, None,   9408        ['zero_padding2d[0][0]']         \n",
            "                                64)                                                               \n",
            "                                                                                                  \n",
            " bn0 (BatchNormalization)       (None, None, None,   256         ['conv0[0][0]']                  \n",
            "                                64)                                                               \n",
            "                                                                                                  \n",
            " relu0 (Activation)             (None, None, None,   0           ['bn0[0][0]']                    \n",
            "                                64)                                                               \n",
            "                                                                                                  \n",
            " zero_padding2d_1 (ZeroPadding2  (None, None, None,   0          ['relu0[0][0]']                  \n",
            " D)                             64)                                                               \n",
            "                                                                                                  \n",
            " pooling0 (MaxPooling2D)        (None, None, None,   0           ['zero_padding2d_1[0][0]']       \n",
            "                                64)                                                               \n",
            "                                                                                                  \n",
            " stage1_unit1_bn1 (BatchNormali  (None, None, None,   256        ['pooling0[0][0]']               \n",
            " zation)                        64)                                                               \n",
            "                                                                                                  \n",
            " stage1_unit1_relu1 (Activation  (None, None, None,   0          ['stage1_unit1_bn1[0][0]']       \n",
            " )                              64)                                                               \n",
            "                                                                                                  \n",
            " zero_padding2d_2 (ZeroPadding2  (None, None, None,   0          ['stage1_unit1_relu1[0][0]']     \n",
            " D)                             64)                                                               \n",
            "                                                                                                  \n",
            " stage1_unit1_conv1 (Conv2D)    (None, None, None,   36864       ['zero_padding2d_2[0][0]']       \n",
            "                                64)                                                               \n",
            "                                                                                                  \n",
            " stage1_unit1_bn2 (BatchNormali  (None, None, None,   256        ['stage1_unit1_conv1[0][0]']     \n",
            " zation)                        64)                                                               \n",
            "                                                                                                  \n",
            " stage1_unit1_relu2 (Activation  (None, None, None,   0          ['stage1_unit1_bn2[0][0]']       \n",
            " )                              64)                                                               \n",
            "                                                                                                  \n",
            " zero_padding2d_3 (ZeroPadding2  (None, None, None,   0          ['stage1_unit1_relu2[0][0]']     \n",
            " D)                             64)                                                               \n",
            "                                                                                                  \n",
            " stage1_unit1_conv2 (Conv2D)    (None, None, None,   36864       ['zero_padding2d_3[0][0]']       \n",
            "                                64)                                                               \n",
            "                                                                                                  \n",
            " stage1_unit1_sc (Conv2D)       (None, None, None,   4096        ['stage1_unit1_relu1[0][0]']     \n",
            "                                64)                                                               \n",
            "                                                                                                  \n",
            " add (Add)                      (None, None, None,   0           ['stage1_unit1_conv2[0][0]',     \n",
            "                                64)                               'stage1_unit1_sc[0][0]']        \n",
            "                                                                                                  \n",
            " stage1_unit2_bn1 (BatchNormali  (None, None, None,   256        ['add[0][0]']                    \n",
            " zation)                        64)                                                               \n",
            "                                                                                                  \n",
            " stage1_unit2_relu1 (Activation  (None, None, None,   0          ['stage1_unit2_bn1[0][0]']       \n",
            " )                              64)                                                               \n",
            "                                                                                                  \n",
            " zero_padding2d_4 (ZeroPadding2  (None, None, None,   0          ['stage1_unit2_relu1[0][0]']     \n",
            " D)                             64)                                                               \n",
            "                                                                                                  \n",
            " stage1_unit2_conv1 (Conv2D)    (None, None, None,   36864       ['zero_padding2d_4[0][0]']       \n",
            "                                64)                                                               \n",
            "                                                                                                  \n",
            " stage1_unit2_bn2 (BatchNormali  (None, None, None,   256        ['stage1_unit2_conv1[0][0]']     \n",
            " zation)                        64)                                                               \n",
            "                                                                                                  \n",
            " stage1_unit2_relu2 (Activation  (None, None, None,   0          ['stage1_unit2_bn2[0][0]']       \n",
            " )                              64)                                                               \n",
            "                                                                                                  \n",
            " zero_padding2d_5 (ZeroPadding2  (None, None, None,   0          ['stage1_unit2_relu2[0][0]']     \n",
            " D)                             64)                                                               \n",
            "                                                                                                  \n",
            " stage1_unit2_conv2 (Conv2D)    (None, None, None,   36864       ['zero_padding2d_5[0][0]']       \n",
            "                                64)                                                               \n",
            "                                                                                                  \n",
            " add_1 (Add)                    (None, None, None,   0           ['stage1_unit2_conv2[0][0]',     \n",
            "                                64)                               'add[0][0]']                    \n",
            "                                                                                                  \n",
            " stage1_unit3_bn1 (BatchNormali  (None, None, None,   256        ['add_1[0][0]']                  \n",
            " zation)                        64)                                                               \n",
            "                                                                                                  \n",
            " stage1_unit3_relu1 (Activation  (None, None, None,   0          ['stage1_unit3_bn1[0][0]']       \n",
            " )                              64)                                                               \n",
            "                                                                                                  \n",
            " zero_padding2d_6 (ZeroPadding2  (None, None, None,   0          ['stage1_unit3_relu1[0][0]']     \n",
            " D)                             64)                                                               \n",
            "                                                                                                  \n",
            " stage1_unit3_conv1 (Conv2D)    (None, None, None,   36864       ['zero_padding2d_6[0][0]']       \n",
            "                                64)                                                               \n",
            "                                                                                                  \n",
            " stage1_unit3_bn2 (BatchNormali  (None, None, None,   256        ['stage1_unit3_conv1[0][0]']     \n",
            " zation)                        64)                                                               \n",
            "                                                                                                  \n",
            " stage1_unit3_relu2 (Activation  (None, None, None,   0          ['stage1_unit3_bn2[0][0]']       \n",
            " )                              64)                                                               \n",
            "                                                                                                  \n",
            " zero_padding2d_7 (ZeroPadding2  (None, None, None,   0          ['stage1_unit3_relu2[0][0]']     \n",
            " D)                             64)                                                               \n",
            "                                                                                                  \n",
            " stage1_unit3_conv2 (Conv2D)    (None, None, None,   36864       ['zero_padding2d_7[0][0]']       \n",
            "                                64)                                                               \n",
            "                                                                                                  \n",
            " add_2 (Add)                    (None, None, None,   0           ['stage1_unit3_conv2[0][0]',     \n",
            "                                64)                               'add_1[0][0]']                  \n",
            "                                                                                                  \n",
            " stage2_unit1_bn1 (BatchNormali  (None, None, None,   256        ['add_2[0][0]']                  \n",
            " zation)                        64)                                                               \n",
            "                                                                                                  \n",
            " stage2_unit1_relu1 (Activation  (None, None, None,   0          ['stage2_unit1_bn1[0][0]']       \n",
            " )                              64)                                                               \n",
            "                                                                                                  \n",
            " zero_padding2d_8 (ZeroPadding2  (None, None, None,   0          ['stage2_unit1_relu1[0][0]']     \n",
            " D)                             64)                                                               \n",
            "                                                                                                  \n",
            " stage2_unit1_conv1 (Conv2D)    (None, None, None,   73728       ['zero_padding2d_8[0][0]']       \n",
            "                                128)                                                              \n",
            "                                                                                                  \n",
            " stage2_unit1_bn2 (BatchNormali  (None, None, None,   512        ['stage2_unit1_conv1[0][0]']     \n",
            " zation)                        128)                                                              \n",
            "                                                                                                  \n",
            " stage2_unit1_relu2 (Activation  (None, None, None,   0          ['stage2_unit1_bn2[0][0]']       \n",
            " )                              128)                                                              \n",
            "                                                                                                  \n",
            " zero_padding2d_9 (ZeroPadding2  (None, None, None,   0          ['stage2_unit1_relu2[0][0]']     \n",
            " D)                             128)                                                              \n",
            "                                                                                                  \n",
            " stage2_unit1_conv2 (Conv2D)    (None, None, None,   147456      ['zero_padding2d_9[0][0]']       \n",
            "                                128)                                                              \n",
            "                                                                                                  \n",
            " stage2_unit1_sc (Conv2D)       (None, None, None,   8192        ['stage2_unit1_relu1[0][0]']     \n",
            "                                128)                                                              \n",
            "                                                                                                  \n",
            " add_3 (Add)                    (None, None, None,   0           ['stage2_unit1_conv2[0][0]',     \n",
            "                                128)                              'stage2_unit1_sc[0][0]']        \n",
            "                                                                                                  \n",
            " stage2_unit2_bn1 (BatchNormali  (None, None, None,   512        ['add_3[0][0]']                  \n",
            " zation)                        128)                                                              \n",
            "                                                                                                  \n",
            " stage2_unit2_relu1 (Activation  (None, None, None,   0          ['stage2_unit2_bn1[0][0]']       \n",
            " )                              128)                                                              \n",
            "                                                                                                  \n",
            " zero_padding2d_10 (ZeroPadding  (None, None, None,   0          ['stage2_unit2_relu1[0][0]']     \n",
            " 2D)                            128)                                                              \n",
            "                                                                                                  \n",
            " stage2_unit2_conv1 (Conv2D)    (None, None, None,   147456      ['zero_padding2d_10[0][0]']      \n",
            "                                128)                                                              \n",
            "                                                                                                  \n",
            " stage2_unit2_bn2 (BatchNormali  (None, None, None,   512        ['stage2_unit2_conv1[0][0]']     \n",
            " zation)                        128)                                                              \n",
            "                                                                                                  \n",
            " stage2_unit2_relu2 (Activation  (None, None, None,   0          ['stage2_unit2_bn2[0][0]']       \n",
            " )                              128)                                                              \n",
            "                                                                                                  \n",
            " zero_padding2d_11 (ZeroPadding  (None, None, None,   0          ['stage2_unit2_relu2[0][0]']     \n",
            " 2D)                            128)                                                              \n",
            "                                                                                                  \n",
            " stage2_unit2_conv2 (Conv2D)    (None, None, None,   147456      ['zero_padding2d_11[0][0]']      \n",
            "                                128)                                                              \n",
            "                                                                                                  \n",
            " add_4 (Add)                    (None, None, None,   0           ['stage2_unit2_conv2[0][0]',     \n",
            "                                128)                              'add_3[0][0]']                  \n",
            "                                                                                                  \n",
            " stage2_unit3_bn1 (BatchNormali  (None, None, None,   512        ['add_4[0][0]']                  \n",
            " zation)                        128)                                                              \n",
            "                                                                                                  \n",
            " stage2_unit3_relu1 (Activation  (None, None, None,   0          ['stage2_unit3_bn1[0][0]']       \n",
            " )                              128)                                                              \n",
            "                                                                                                  \n",
            " zero_padding2d_12 (ZeroPadding  (None, None, None,   0          ['stage2_unit3_relu1[0][0]']     \n",
            " 2D)                            128)                                                              \n",
            "                                                                                                  \n",
            " stage2_unit3_conv1 (Conv2D)    (None, None, None,   147456      ['zero_padding2d_12[0][0]']      \n",
            "                                128)                                                              \n",
            "                                                                                                  \n",
            " stage2_unit3_bn2 (BatchNormali  (None, None, None,   512        ['stage2_unit3_conv1[0][0]']     \n",
            " zation)                        128)                                                              \n",
            "                                                                                                  \n",
            " stage2_unit3_relu2 (Activation  (None, None, None,   0          ['stage2_unit3_bn2[0][0]']       \n",
            " )                              128)                                                              \n",
            "                                                                                                  \n",
            " zero_padding2d_13 (ZeroPadding  (None, None, None,   0          ['stage2_unit3_relu2[0][0]']     \n",
            " 2D)                            128)                                                              \n",
            "                                                                                                  \n",
            " stage2_unit3_conv2 (Conv2D)    (None, None, None,   147456      ['zero_padding2d_13[0][0]']      \n",
            "                                128)                                                              \n",
            "                                                                                                  \n",
            " add_5 (Add)                    (None, None, None,   0           ['stage2_unit3_conv2[0][0]',     \n",
            "                                128)                              'add_4[0][0]']                  \n",
            "                                                                                                  \n",
            " stage2_unit4_bn1 (BatchNormali  (None, None, None,   512        ['add_5[0][0]']                  \n",
            " zation)                        128)                                                              \n",
            "                                                                                                  \n",
            " stage2_unit4_relu1 (Activation  (None, None, None,   0          ['stage2_unit4_bn1[0][0]']       \n",
            " )                              128)                                                              \n",
            "                                                                                                  \n",
            " zero_padding2d_14 (ZeroPadding  (None, None, None,   0          ['stage2_unit4_relu1[0][0]']     \n",
            " 2D)                            128)                                                              \n",
            "                                                                                                  \n",
            " stage2_unit4_conv1 (Conv2D)    (None, None, None,   147456      ['zero_padding2d_14[0][0]']      \n",
            "                                128)                                                              \n",
            "                                                                                                  \n",
            " stage2_unit4_bn2 (BatchNormali  (None, None, None,   512        ['stage2_unit4_conv1[0][0]']     \n",
            " zation)                        128)                                                              \n",
            "                                                                                                  \n",
            " stage2_unit4_relu2 (Activation  (None, None, None,   0          ['stage2_unit4_bn2[0][0]']       \n",
            " )                              128)                                                              \n",
            "                                                                                                  \n",
            " zero_padding2d_15 (ZeroPadding  (None, None, None,   0          ['stage2_unit4_relu2[0][0]']     \n",
            " 2D)                            128)                                                              \n",
            "                                                                                                  \n",
            " stage2_unit4_conv2 (Conv2D)    (None, None, None,   147456      ['zero_padding2d_15[0][0]']      \n",
            "                                128)                                                              \n",
            "                                                                                                  \n",
            " add_6 (Add)                    (None, None, None,   0           ['stage2_unit4_conv2[0][0]',     \n",
            "                                128)                              'add_5[0][0]']                  \n",
            "                                                                                                  \n",
            " stage3_unit1_bn1 (BatchNormali  (None, None, None,   512        ['add_6[0][0]']                  \n",
            " zation)                        128)                                                              \n",
            "                                                                                                  \n",
            " stage3_unit1_relu1 (Activation  (None, None, None,   0          ['stage3_unit1_bn1[0][0]']       \n",
            " )                              128)                                                              \n",
            "                                                                                                  \n",
            " zero_padding2d_16 (ZeroPadding  (None, None, None,   0          ['stage3_unit1_relu1[0][0]']     \n",
            " 2D)                            128)                                                              \n",
            "                                                                                                  \n",
            " stage3_unit1_conv1 (Conv2D)    (None, None, None,   294912      ['zero_padding2d_16[0][0]']      \n",
            "                                256)                                                              \n",
            "                                                                                                  \n",
            " stage3_unit1_bn2 (BatchNormali  (None, None, None,   1024       ['stage3_unit1_conv1[0][0]']     \n",
            " zation)                        256)                                                              \n",
            "                                                                                                  \n",
            " stage3_unit1_relu2 (Activation  (None, None, None,   0          ['stage3_unit1_bn2[0][0]']       \n",
            " )                              256)                                                              \n",
            "                                                                                                  \n",
            " zero_padding2d_17 (ZeroPadding  (None, None, None,   0          ['stage3_unit1_relu2[0][0]']     \n",
            " 2D)                            256)                                                              \n",
            "                                                                                                  \n",
            " stage3_unit1_conv2 (Conv2D)    (None, None, None,   589824      ['zero_padding2d_17[0][0]']      \n",
            "                                256)                                                              \n",
            "                                                                                                  \n",
            " stage3_unit1_sc (Conv2D)       (None, None, None,   32768       ['stage3_unit1_relu1[0][0]']     \n",
            "                                256)                                                              \n",
            "                                                                                                  \n",
            " add_7 (Add)                    (None, None, None,   0           ['stage3_unit1_conv2[0][0]',     \n",
            "                                256)                              'stage3_unit1_sc[0][0]']        \n",
            "                                                                                                  \n",
            " stage3_unit2_bn1 (BatchNormali  (None, None, None,   1024       ['add_7[0][0]']                  \n",
            " zation)                        256)                                                              \n",
            "                                                                                                  \n",
            " stage3_unit2_relu1 (Activation  (None, None, None,   0          ['stage3_unit2_bn1[0][0]']       \n",
            " )                              256)                                                              \n",
            "                                                                                                  \n",
            " zero_padding2d_18 (ZeroPadding  (None, None, None,   0          ['stage3_unit2_relu1[0][0]']     \n",
            " 2D)                            256)                                                              \n",
            "                                                                                                  \n",
            " stage3_unit2_conv1 (Conv2D)    (None, None, None,   589824      ['zero_padding2d_18[0][0]']      \n",
            "                                256)                                                              \n",
            "                                                                                                  \n",
            " stage3_unit2_bn2 (BatchNormali  (None, None, None,   1024       ['stage3_unit2_conv1[0][0]']     \n",
            " zation)                        256)                                                              \n",
            "                                                                                                  \n",
            " stage3_unit2_relu2 (Activation  (None, None, None,   0          ['stage3_unit2_bn2[0][0]']       \n",
            " )                              256)                                                              \n",
            "                                                                                                  \n",
            " zero_padding2d_19 (ZeroPadding  (None, None, None,   0          ['stage3_unit2_relu2[0][0]']     \n",
            " 2D)                            256)                                                              \n",
            "                                                                                                  \n",
            " stage3_unit2_conv2 (Conv2D)    (None, None, None,   589824      ['zero_padding2d_19[0][0]']      \n",
            "                                256)                                                              \n",
            "                                                                                                  \n",
            " add_8 (Add)                    (None, None, None,   0           ['stage3_unit2_conv2[0][0]',     \n",
            "                                256)                              'add_7[0][0]']                  \n",
            "                                                                                                  \n",
            " stage3_unit3_bn1 (BatchNormali  (None, None, None,   1024       ['add_8[0][0]']                  \n",
            " zation)                        256)                                                              \n",
            "                                                                                                  \n",
            " stage3_unit3_relu1 (Activation  (None, None, None,   0          ['stage3_unit3_bn1[0][0]']       \n",
            " )                              256)                                                              \n",
            "                                                                                                  \n",
            " zero_padding2d_20 (ZeroPadding  (None, None, None,   0          ['stage3_unit3_relu1[0][0]']     \n",
            " 2D)                            256)                                                              \n",
            "                                                                                                  \n",
            " stage3_unit3_conv1 (Conv2D)    (None, None, None,   589824      ['zero_padding2d_20[0][0]']      \n",
            "                                256)                                                              \n",
            "                                                                                                  \n",
            " stage3_unit3_bn2 (BatchNormali  (None, None, None,   1024       ['stage3_unit3_conv1[0][0]']     \n",
            " zation)                        256)                                                              \n",
            "                                                                                                  \n",
            " stage3_unit3_relu2 (Activation  (None, None, None,   0          ['stage3_unit3_bn2[0][0]']       \n",
            " )                              256)                                                              \n",
            "                                                                                                  \n",
            " zero_padding2d_21 (ZeroPadding  (None, None, None,   0          ['stage3_unit3_relu2[0][0]']     \n",
            " 2D)                            256)                                                              \n",
            "                                                                                                  \n",
            " stage3_unit3_conv2 (Conv2D)    (None, None, None,   589824      ['zero_padding2d_21[0][0]']      \n",
            "                                256)                                                              \n",
            "                                                                                                  \n",
            " add_9 (Add)                    (None, None, None,   0           ['stage3_unit3_conv2[0][0]',     \n",
            "                                256)                              'add_8[0][0]']                  \n",
            "                                                                                                  \n",
            " stage3_unit4_bn1 (BatchNormali  (None, None, None,   1024       ['add_9[0][0]']                  \n",
            " zation)                        256)                                                              \n",
            "                                                                                                  \n",
            " stage3_unit4_relu1 (Activation  (None, None, None,   0          ['stage3_unit4_bn1[0][0]']       \n",
            " )                              256)                                                              \n",
            "                                                                                                  \n",
            " zero_padding2d_22 (ZeroPadding  (None, None, None,   0          ['stage3_unit4_relu1[0][0]']     \n",
            " 2D)                            256)                                                              \n",
            "                                                                                                  \n",
            " stage3_unit4_conv1 (Conv2D)    (None, None, None,   589824      ['zero_padding2d_22[0][0]']      \n",
            "                                256)                                                              \n",
            "                                                                                                  \n",
            " stage3_unit4_bn2 (BatchNormali  (None, None, None,   1024       ['stage3_unit4_conv1[0][0]']     \n",
            " zation)                        256)                                                              \n",
            "                                                                                                  \n",
            " stage3_unit4_relu2 (Activation  (None, None, None,   0          ['stage3_unit4_bn2[0][0]']       \n",
            " )                              256)                                                              \n",
            "                                                                                                  \n",
            " zero_padding2d_23 (ZeroPadding  (None, None, None,   0          ['stage3_unit4_relu2[0][0]']     \n",
            " 2D)                            256)                                                              \n",
            "                                                                                                  \n",
            " stage3_unit4_conv2 (Conv2D)    (None, None, None,   589824      ['zero_padding2d_23[0][0]']      \n",
            "                                256)                                                              \n",
            "                                                                                                  \n",
            " add_10 (Add)                   (None, None, None,   0           ['stage3_unit4_conv2[0][0]',     \n",
            "                                256)                              'add_9[0][0]']                  \n",
            "                                                                                                  \n",
            " stage3_unit5_bn1 (BatchNormali  (None, None, None,   1024       ['add_10[0][0]']                 \n",
            " zation)                        256)                                                              \n",
            "                                                                                                  \n",
            " stage3_unit5_relu1 (Activation  (None, None, None,   0          ['stage3_unit5_bn1[0][0]']       \n",
            " )                              256)                                                              \n",
            "                                                                                                  \n",
            " zero_padding2d_24 (ZeroPadding  (None, None, None,   0          ['stage3_unit5_relu1[0][0]']     \n",
            " 2D)                            256)                                                              \n",
            "                                                                                                  \n",
            " stage3_unit5_conv1 (Conv2D)    (None, None, None,   589824      ['zero_padding2d_24[0][0]']      \n",
            "                                256)                                                              \n",
            "                                                                                                  \n",
            " stage3_unit5_bn2 (BatchNormali  (None, None, None,   1024       ['stage3_unit5_conv1[0][0]']     \n",
            " zation)                        256)                                                              \n",
            "                                                                                                  \n",
            " stage3_unit5_relu2 (Activation  (None, None, None,   0          ['stage3_unit5_bn2[0][0]']       \n",
            " )                              256)                                                              \n",
            "                                                                                                  \n",
            " zero_padding2d_25 (ZeroPadding  (None, None, None,   0          ['stage3_unit5_relu2[0][0]']     \n",
            " 2D)                            256)                                                              \n",
            "                                                                                                  \n",
            " stage3_unit5_conv2 (Conv2D)    (None, None, None,   589824      ['zero_padding2d_25[0][0]']      \n",
            "                                256)                                                              \n",
            "                                                                                                  \n",
            " add_11 (Add)                   (None, None, None,   0           ['stage3_unit5_conv2[0][0]',     \n",
            "                                256)                              'add_10[0][0]']                 \n",
            "                                                                                                  \n",
            " stage3_unit6_bn1 (BatchNormali  (None, None, None,   1024       ['add_11[0][0]']                 \n",
            " zation)                        256)                                                              \n",
            "                                                                                                  \n",
            " stage3_unit6_relu1 (Activation  (None, None, None,   0          ['stage3_unit6_bn1[0][0]']       \n",
            " )                              256)                                                              \n",
            "                                                                                                  \n",
            " zero_padding2d_26 (ZeroPadding  (None, None, None,   0          ['stage3_unit6_relu1[0][0]']     \n",
            " 2D)                            256)                                                              \n",
            "                                                                                                  \n",
            " stage3_unit6_conv1 (Conv2D)    (None, None, None,   589824      ['zero_padding2d_26[0][0]']      \n",
            "                                256)                                                              \n",
            "                                                                                                  \n",
            " stage3_unit6_bn2 (BatchNormali  (None, None, None,   1024       ['stage3_unit6_conv1[0][0]']     \n",
            " zation)                        256)                                                              \n",
            "                                                                                                  \n",
            " stage3_unit6_relu2 (Activation  (None, None, None,   0          ['stage3_unit6_bn2[0][0]']       \n",
            " )                              256)                                                              \n",
            "                                                                                                  \n",
            " zero_padding2d_27 (ZeroPadding  (None, None, None,   0          ['stage3_unit6_relu2[0][0]']     \n",
            " 2D)                            256)                                                              \n",
            "                                                                                                  \n",
            " stage3_unit6_conv2 (Conv2D)    (None, None, None,   589824      ['zero_padding2d_27[0][0]']      \n",
            "                                256)                                                              \n",
            "                                                                                                  \n",
            " add_12 (Add)                   (None, None, None,   0           ['stage3_unit6_conv2[0][0]',     \n",
            "                                256)                              'add_11[0][0]']                 \n",
            "                                                                                                  \n",
            " stage4_unit1_bn1 (BatchNormali  (None, None, None,   1024       ['add_12[0][0]']                 \n",
            " zation)                        256)                                                              \n",
            "                                                                                                  \n",
            " stage4_unit1_relu1 (Activation  (None, None, None,   0          ['stage4_unit1_bn1[0][0]']       \n",
            " )                              256)                                                              \n",
            "                                                                                                  \n",
            " zero_padding2d_28 (ZeroPadding  (None, None, None,   0          ['stage4_unit1_relu1[0][0]']     \n",
            " 2D)                            256)                                                              \n",
            "                                                                                                  \n",
            " stage4_unit1_conv1 (Conv2D)    (None, None, None,   1179648     ['zero_padding2d_28[0][0]']      \n",
            "                                512)                                                              \n",
            "                                                                                                  \n",
            " stage4_unit1_bn2 (BatchNormali  (None, None, None,   2048       ['stage4_unit1_conv1[0][0]']     \n",
            " zation)                        512)                                                              \n",
            "                                                                                                  \n",
            " stage4_unit1_relu2 (Activation  (None, None, None,   0          ['stage4_unit1_bn2[0][0]']       \n",
            " )                              512)                                                              \n",
            "                                                                                                  \n",
            " zero_padding2d_29 (ZeroPadding  (None, None, None,   0          ['stage4_unit1_relu2[0][0]']     \n",
            " 2D)                            512)                                                              \n",
            "                                                                                                  \n",
            " stage4_unit1_conv2 (Conv2D)    (None, None, None,   2359296     ['zero_padding2d_29[0][0]']      \n",
            "                                512)                                                              \n",
            "                                                                                                  \n",
            " stage4_unit1_sc (Conv2D)       (None, None, None,   131072      ['stage4_unit1_relu1[0][0]']     \n",
            "                                512)                                                              \n",
            "                                                                                                  \n",
            " add_13 (Add)                   (None, None, None,   0           ['stage4_unit1_conv2[0][0]',     \n",
            "                                512)                              'stage4_unit1_sc[0][0]']        \n",
            "                                                                                                  \n",
            " stage4_unit2_bn1 (BatchNormali  (None, None, None,   2048       ['add_13[0][0]']                 \n",
            " zation)                        512)                                                              \n",
            "                                                                                                  \n",
            " stage4_unit2_relu1 (Activation  (None, None, None,   0          ['stage4_unit2_bn1[0][0]']       \n",
            " )                              512)                                                              \n",
            "                                                                                                  \n",
            " zero_padding2d_30 (ZeroPadding  (None, None, None,   0          ['stage4_unit2_relu1[0][0]']     \n",
            " 2D)                            512)                                                              \n",
            "                                                                                                  \n",
            " stage4_unit2_conv1 (Conv2D)    (None, None, None,   2359296     ['zero_padding2d_30[0][0]']      \n",
            "                                512)                                                              \n",
            "                                                                                                  \n",
            " stage4_unit2_bn2 (BatchNormali  (None, None, None,   2048       ['stage4_unit2_conv1[0][0]']     \n",
            " zation)                        512)                                                              \n",
            "                                                                                                  \n",
            " stage4_unit2_relu2 (Activation  (None, None, None,   0          ['stage4_unit2_bn2[0][0]']       \n",
            " )                              512)                                                              \n",
            "                                                                                                  \n",
            " zero_padding2d_31 (ZeroPadding  (None, None, None,   0          ['stage4_unit2_relu2[0][0]']     \n",
            " 2D)                            512)                                                              \n",
            "                                                                                                  \n",
            " stage4_unit2_conv2 (Conv2D)    (None, None, None,   2359296     ['zero_padding2d_31[0][0]']      \n",
            "                                512)                                                              \n",
            "                                                                                                  \n",
            " add_14 (Add)                   (None, None, None,   0           ['stage4_unit2_conv2[0][0]',     \n",
            "                                512)                              'add_13[0][0]']                 \n",
            "                                                                                                  \n",
            " stage4_unit3_bn1 (BatchNormali  (None, None, None,   2048       ['add_14[0][0]']                 \n",
            " zation)                        512)                                                              \n",
            "                                                                                                  \n",
            " stage4_unit3_relu1 (Activation  (None, None, None,   0          ['stage4_unit3_bn1[0][0]']       \n",
            " )                              512)                                                              \n",
            "                                                                                                  \n",
            " zero_padding2d_32 (ZeroPadding  (None, None, None,   0          ['stage4_unit3_relu1[0][0]']     \n",
            " 2D)                            512)                                                              \n",
            "                                                                                                  \n",
            " stage4_unit3_conv1 (Conv2D)    (None, None, None,   2359296     ['zero_padding2d_32[0][0]']      \n",
            "                                512)                                                              \n",
            "                                                                                                  \n",
            " stage4_unit3_bn2 (BatchNormali  (None, None, None,   2048       ['stage4_unit3_conv1[0][0]']     \n",
            " zation)                        512)                                                              \n",
            "                                                                                                  \n",
            " stage4_unit3_relu2 (Activation  (None, None, None,   0          ['stage4_unit3_bn2[0][0]']       \n",
            " )                              512)                                                              \n",
            "                                                                                                  \n",
            " zero_padding2d_33 (ZeroPadding  (None, None, None,   0          ['stage4_unit3_relu2[0][0]']     \n",
            " 2D)                            512)                                                              \n",
            "                                                                                                  \n",
            " stage4_unit3_conv2 (Conv2D)    (None, None, None,   2359296     ['zero_padding2d_33[0][0]']      \n",
            "                                512)                                                              \n",
            "                                                                                                  \n",
            " add_15 (Add)                   (None, None, None,   0           ['stage4_unit3_conv2[0][0]',     \n",
            "                                512)                              'add_14[0][0]']                 \n",
            "                                                                                                  \n",
            " bn1 (BatchNormalization)       (None, None, None,   2048        ['add_15[0][0]']                 \n",
            "                                512)                                                              \n",
            "                                                                                                  \n",
            " relu1 (Activation)             (None, None, None,   0           ['bn1[0][0]']                    \n",
            "                                512)                                                              \n",
            "                                                                                                  \n",
            " decoder_stage0_upsampling (UpS  (None, None, None,   0          ['relu1[0][0]']                  \n",
            " ampling2D)                     512)                                                              \n",
            "                                                                                                  \n",
            " decoder_stage0_concat (Concate  (None, None, None,   0          ['decoder_stage0_upsampling[0][0]\n",
            " nate)                          768)                             ',                               \n",
            "                                                                  'stage4_unit1_relu1[0][0]']     \n",
            "                                                                                                  \n",
            " decoder_stage0a_conv (Conv2D)  (None, None, None,   1769472     ['decoder_stage0_concat[0][0]']  \n",
            "                                256)                                                              \n",
            "                                                                                                  \n",
            " decoder_stage0a_bn (BatchNorma  (None, None, None,   1024       ['decoder_stage0a_conv[0][0]']   \n",
            " lization)                      256)                                                              \n",
            "                                                                                                  \n",
            " decoder_stage0a_relu (Activati  (None, None, None,   0          ['decoder_stage0a_bn[0][0]']     \n",
            " on)                            256)                                                              \n",
            "                                                                                                  \n",
            " decoder_stage0b_conv (Conv2D)  (None, None, None,   589824      ['decoder_stage0a_relu[0][0]']   \n",
            "                                256)                                                              \n",
            "                                                                                                  \n",
            " decoder_stage0b_bn (BatchNorma  (None, None, None,   1024       ['decoder_stage0b_conv[0][0]']   \n",
            " lization)                      256)                                                              \n",
            "                                                                                                  \n",
            " decoder_stage0b_relu (Activati  (None, None, None,   0          ['decoder_stage0b_bn[0][0]']     \n",
            " on)                            256)                                                              \n",
            "                                                                                                  \n",
            " decoder_stage1_upsampling (UpS  (None, None, None,   0          ['decoder_stage0b_relu[0][0]']   \n",
            " ampling2D)                     256)                                                              \n",
            "                                                                                                  \n",
            " decoder_stage1_concat (Concate  (None, None, None,   0          ['decoder_stage1_upsampling[0][0]\n",
            " nate)                          384)                             ',                               \n",
            "                                                                  'stage3_unit1_relu1[0][0]']     \n",
            "                                                                                                  \n",
            " decoder_stage1a_conv (Conv2D)  (None, None, None,   442368      ['decoder_stage1_concat[0][0]']  \n",
            "                                128)                                                              \n",
            "                                                                                                  \n",
            " decoder_stage1a_bn (BatchNorma  (None, None, None,   512        ['decoder_stage1a_conv[0][0]']   \n",
            " lization)                      128)                                                              \n",
            "                                                                                                  \n",
            " decoder_stage1a_relu (Activati  (None, None, None,   0          ['decoder_stage1a_bn[0][0]']     \n",
            " on)                            128)                                                              \n",
            "                                                                                                  \n",
            " decoder_stage1b_conv (Conv2D)  (None, None, None,   147456      ['decoder_stage1a_relu[0][0]']   \n",
            "                                128)                                                              \n",
            "                                                                                                  \n",
            " decoder_stage1b_bn (BatchNorma  (None, None, None,   512        ['decoder_stage1b_conv[0][0]']   \n",
            " lization)                      128)                                                              \n",
            "                                                                                                  \n",
            " decoder_stage1b_relu (Activati  (None, None, None,   0          ['decoder_stage1b_bn[0][0]']     \n",
            " on)                            128)                                                              \n",
            "                                                                                                  \n",
            " decoder_stage2_upsampling (UpS  (None, None, None,   0          ['decoder_stage1b_relu[0][0]']   \n",
            " ampling2D)                     128)                                                              \n",
            "                                                                                                  \n",
            " decoder_stage2_concat (Concate  (None, None, None,   0          ['decoder_stage2_upsampling[0][0]\n",
            " nate)                          192)                             ',                               \n",
            "                                                                  'stage2_unit1_relu1[0][0]']     \n",
            "                                                                                                  \n",
            " decoder_stage2a_conv (Conv2D)  (None, None, None,   110592      ['decoder_stage2_concat[0][0]']  \n",
            "                                64)                                                               \n",
            "                                                                                                  \n",
            " decoder_stage2a_bn (BatchNorma  (None, None, None,   256        ['decoder_stage2a_conv[0][0]']   \n",
            " lization)                      64)                                                               \n",
            "                                                                                                  \n",
            " decoder_stage2a_relu (Activati  (None, None, None,   0          ['decoder_stage2a_bn[0][0]']     \n",
            " on)                            64)                                                               \n",
            "                                                                                                  \n",
            " decoder_stage2b_conv (Conv2D)  (None, None, None,   36864       ['decoder_stage2a_relu[0][0]']   \n",
            "                                64)                                                               \n",
            "                                                                                                  \n",
            " decoder_stage2b_bn (BatchNorma  (None, None, None,   256        ['decoder_stage2b_conv[0][0]']   \n",
            " lization)                      64)                                                               \n",
            "                                                                                                  \n",
            " decoder_stage2b_relu (Activati  (None, None, None,   0          ['decoder_stage2b_bn[0][0]']     \n",
            " on)                            64)                                                               \n",
            "                                                                                                  \n",
            " decoder_stage3_upsampling (UpS  (None, None, None,   0          ['decoder_stage2b_relu[0][0]']   \n",
            " ampling2D)                     64)                                                               \n",
            "                                                                                                  \n",
            " decoder_stage3_concat (Concate  (None, None, None,   0          ['decoder_stage3_upsampling[0][0]\n",
            " nate)                          128)                             ',                               \n",
            "                                                                  'relu0[0][0]']                  \n",
            "                                                                                                  \n",
            " decoder_stage3a_conv (Conv2D)  (None, None, None,   36864       ['decoder_stage3_concat[0][0]']  \n",
            "                                32)                                                               \n",
            "                                                                                                  \n",
            " decoder_stage3a_bn (BatchNorma  (None, None, None,   128        ['decoder_stage3a_conv[0][0]']   \n",
            " lization)                      32)                                                               \n",
            "                                                                                                  \n",
            " decoder_stage3a_relu (Activati  (None, None, None,   0          ['decoder_stage3a_bn[0][0]']     \n",
            " on)                            32)                                                               \n",
            "                                                                                                  \n",
            " decoder_stage3b_conv (Conv2D)  (None, None, None,   9216        ['decoder_stage3a_relu[0][0]']   \n",
            "                                32)                                                               \n",
            "                                                                                                  \n",
            " decoder_stage3b_bn (BatchNorma  (None, None, None,   128        ['decoder_stage3b_conv[0][0]']   \n",
            " lization)                      32)                                                               \n",
            "                                                                                                  \n",
            " decoder_stage3b_relu (Activati  (None, None, None,   0          ['decoder_stage3b_bn[0][0]']     \n",
            " on)                            32)                                                               \n",
            "                                                                                                  \n",
            " decoder_stage4_upsampling (UpS  (None, None, None,   0          ['decoder_stage3b_relu[0][0]']   \n",
            " ampling2D)                     32)                                                               \n",
            "                                                                                                  \n",
            " decoder_stage4a_conv (Conv2D)  (None, None, None,   4608        ['decoder_stage4_upsampling[0][0]\n",
            "                                16)                              ']                               \n",
            "                                                                                                  \n",
            " decoder_stage4a_bn (BatchNorma  (None, None, None,   64         ['decoder_stage4a_conv[0][0]']   \n",
            " lization)                      16)                                                               \n",
            "                                                                                                  \n",
            " decoder_stage4a_relu (Activati  (None, None, None,   0          ['decoder_stage4a_bn[0][0]']     \n",
            " on)                            16)                                                               \n",
            "                                                                                                  \n",
            " decoder_stage4b_conv (Conv2D)  (None, None, None,   2304        ['decoder_stage4a_relu[0][0]']   \n",
            "                                16)                                                               \n",
            "                                                                                                  \n",
            " decoder_stage4b_bn (BatchNorma  (None, None, None,   64         ['decoder_stage4b_conv[0][0]']   \n",
            " lization)                      16)                                                               \n",
            "                                                                                                  \n",
            " decoder_stage4b_relu (Activati  (None, None, None,   0          ['decoder_stage4b_bn[0][0]']     \n",
            " on)                            16)                                                               \n",
            "                                                                                                  \n",
            " final_conv (Conv2D)            (None, None, None,   290         ['decoder_stage4b_relu[0][0]']   \n",
            "                                2)                                                                \n",
            "                                                                                                  \n",
            " softmax (Activation)           (None, None, None,   0           ['final_conv[0][0]']             \n",
            "                                2)                                                                \n",
            "                                                                                                  \n",
            "==================================================================================================\n",
            "Total params: 24,456,299\n",
            "Trainable params: 24,438,949\n",
            "Non-trainable params: 17,350\n",
            "__________________________________________________________________________________________________\n",
            "None\n"
          ]
        }
      ],
      "source": [
        "###Model \n",
        "BACKBONE = 'resnet34'\n",
        "preprocess_input = sm.get_preprocessing(BACKBONE)\n",
        "\n",
        "# preprocess input\n",
        "X_train_processed = preprocess_input(X_train)\n",
        "X_test_processed = preprocess_input(X_test)\n",
        "# define model\n",
        "model = sm.Unet(BACKBONE, encoder_weights='imagenet', classes=n_classes, activation=activation)\n",
        "\n",
        "# compile keras model with defined optimozer, loss and metrics\n",
        "model.compile(optim, total_loss, metrics=metrics)\n",
        "\n",
        "\n",
        "print(model.summary())"
      ]
    },
    {
      "cell_type": "code",
      "execution_count": 20,
      "metadata": {
        "colab": {
          "base_uri": "https://localhost:8080/"
        },
        "id": "yGZOSveHsAUV",
        "outputId": "6e32059d-a855-48fe-c820-b82fda8210fa"
      },
      "outputs": [
        {
          "name": "stdout",
          "output_type": "stream",
          "text": [
            "Epoch 1/20\n",
            "50/50 [==============================] - 19s 93ms/step - loss: 0.5056 - iou_score: 0.5051 - f1-score: 0.5821 - val_loss: 0.5961 - val_iou_score: 0.4729 - val_f1-score: 0.4861\n",
            "Epoch 2/20\n",
            "50/50 [==============================] - 3s 66ms/step - loss: 0.3998 - iou_score: 0.6597 - f1-score: 0.7570 - val_loss: 0.5458 - val_iou_score: 0.4730 - val_f1-score: 0.4861\n",
            "Epoch 3/20\n",
            "50/50 [==============================] - 3s 66ms/step - loss: 0.2615 - iou_score: 0.7707 - f1-score: 0.8540 - val_loss: 0.5132 - val_iou_score: 0.4730 - val_f1-score: 0.4861\n",
            "Epoch 4/20\n",
            "50/50 [==============================] - 3s 68ms/step - loss: 0.1663 - iou_score: 0.8350 - f1-score: 0.9024 - val_loss: 0.5067 - val_iou_score: 0.4730 - val_f1-score: 0.4861\n",
            "Epoch 5/20\n",
            "50/50 [==============================] - 3s 67ms/step - loss: 0.1239 - iou_score: 0.8620 - f1-score: 0.9206 - val_loss: 0.5347 - val_iou_score: 0.4730 - val_f1-score: 0.4861\n",
            "Epoch 6/20\n",
            "50/50 [==============================] - 3s 66ms/step - loss: 0.1003 - iou_score: 0.8798 - f1-score: 0.9320 - val_loss: 0.5428 - val_iou_score: 0.4730 - val_f1-score: 0.4861\n",
            "Epoch 7/20\n",
            "50/50 [==============================] - 3s 67ms/step - loss: 0.0870 - iou_score: 0.8905 - f1-score: 0.9387 - val_loss: 0.5473 - val_iou_score: 0.4730 - val_f1-score: 0.4861\n",
            "Epoch 8/20\n",
            "50/50 [==============================] - 3s 67ms/step - loss: 0.0765 - iou_score: 0.9003 - f1-score: 0.9447 - val_loss: 0.5519 - val_iou_score: 0.4730 - val_f1-score: 0.4861\n",
            "Epoch 9/20\n",
            "50/50 [==============================] - 3s 67ms/step - loss: 0.0679 - iou_score: 0.9097 - f1-score: 0.9504 - val_loss: 0.5546 - val_iou_score: 0.4730 - val_f1-score: 0.4861\n",
            "Epoch 10/20\n",
            "50/50 [==============================] - 3s 67ms/step - loss: 0.0620 - iou_score: 0.9154 - f1-score: 0.9539 - val_loss: 0.5467 - val_iou_score: 0.4774 - val_f1-score: 0.4943\n",
            "Epoch 11/20\n",
            "50/50 [==============================] - 3s 69ms/step - loss: 0.0584 - iou_score: 0.9187 - f1-score: 0.9558 - val_loss: 0.5163 - val_iou_score: 0.4943 - val_f1-score: 0.5237\n",
            "Epoch 12/20\n",
            "50/50 [==============================] - 3s 69ms/step - loss: 0.0526 - iou_score: 0.9261 - f1-score: 0.9600 - val_loss: 0.4275 - val_iou_score: 0.5492 - val_f1-score: 0.6087\n",
            "Epoch 13/20\n",
            "50/50 [==============================] - 3s 68ms/step - loss: 0.0496 - iou_score: 0.9293 - f1-score: 0.9619 - val_loss: 0.3119 - val_iou_score: 0.6326 - val_f1-score: 0.7176\n",
            "Epoch 14/20\n",
            "50/50 [==============================] - 3s 69ms/step - loss: 0.0459 - iou_score: 0.9342 - f1-score: 0.9648 - val_loss: 0.2776 - val_iou_score: 0.6630 - val_f1-score: 0.7507\n",
            "Epoch 15/20\n",
            "50/50 [==============================] - 3s 70ms/step - loss: 0.0434 - iou_score: 0.9366 - f1-score: 0.9660 - val_loss: 0.2115 - val_iou_score: 0.7256 - val_f1-score: 0.8123\n",
            "Epoch 16/20\n",
            "50/50 [==============================] - 3s 68ms/step - loss: 0.0405 - iou_score: 0.9405 - f1-score: 0.9683 - val_loss: 0.1781 - val_iou_score: 0.7611 - val_f1-score: 0.8430\n",
            "Epoch 17/20\n",
            "50/50 [==============================] - 3s 70ms/step - loss: 0.0377 - iou_score: 0.9442 - f1-score: 0.9704 - val_loss: 0.1239 - val_iou_score: 0.8275 - val_f1-score: 0.8954\n",
            "Epoch 18/20\n",
            "50/50 [==============================] - 3s 69ms/step - loss: 0.0358 - iou_score: 0.9465 - f1-score: 0.9717 - val_loss: 0.1317 - val_iou_score: 0.8180 - val_f1-score: 0.8863\n",
            "Epoch 19/20\n",
            "50/50 [==============================] - 3s 69ms/step - loss: 0.0347 - iou_score: 0.9480 - f1-score: 0.9725 - val_loss: 0.1035 - val_iou_score: 0.8511 - val_f1-score: 0.9114\n",
            "Epoch 20/20\n",
            "50/50 [==============================] - 4s 71ms/step - loss: 0.0346 - iou_score: 0.9474 - f1-score: 0.9722 - val_loss: 0.0921 - val_iou_score: 0.8661 - val_f1-score: 0.9213\n"
          ]
        }
      ],
      "source": [
        "import time \n",
        "start=time.time()\n",
        "history=model.fit(X_train_processed, \n",
        "          y_train_cat,\n",
        "          batch_size=8, \n",
        "          epochs=20,\n",
        "          verbose=1,\n",
        "          validation_data=(X_test_processed, y_test_cat))\n",
        "end =time.time()\n",
        "execution=end-start\n"
      ]
    },
    {
      "cell_type": "code",
      "execution_count": 22,
      "metadata": {
        "colab": {
          "base_uri": "https://localhost:8080/"
        },
        "id": "Wuivmaai5fjp",
        "outputId": "c10a6674-4b80-4329-d952-7eed48faaa2b"
      },
      "outputs": [
        {
          "name": "stdout",
          "output_type": "stream",
          "text": [
            "Time  84.1  seconds\n"
          ]
        }
      ],
      "source": [
        "print(\"Time \",round(execution,1),\" seconds\")"
      ]
    },
    {
      "cell_type": "code",
      "execution_count": null,
      "metadata": {
        "id": "eN8lsXAp8zky"
      },
      "outputs": [],
      "source": [
        "# model.load_weights('C:\\\\Users\\\\Sherif Essam\\\\OneDrive\\\\Desktop\\\\segm\\\\weights.h5')"
      ]
    },
    {
      "cell_type": "code",
      "execution_count": 23,
      "metadata": {
        "colab": {
          "base_uri": "https://localhost:8080/"
        },
        "id": "Wjckgi-qtQIE",
        "outputId": "c90d6ea4-9933-423b-85da-442861013f6b"
      },
      "outputs": [
        {
          "name": "stdout",
          "output_type": "stream",
          "text": [
            "4/4 [==============================] - 2s 28ms/step\n"
          ]
        }
      ],
      "source": [
        "from keras.metrics import MeanIoU\n",
        "y_pred=model.predict(X_test_processed)\n",
        "y_pred_argmax=np.argmax(y_pred, axis=3)"
      ]
    },
    {
      "cell_type": "code",
      "execution_count": 24,
      "metadata": {
        "colab": {
          "base_uri": "https://localhost:8080/"
        },
        "id": "FgRTxMpO4zQH",
        "outputId": "51f252d1-2536-4358-9b5a-cb42cf6fac90"
      },
      "outputs": [
        {
          "name": "stdout",
          "output_type": "stream",
          "text": [
            "(100, 128, 128, 3)\n"
          ]
        }
      ],
      "source": [
        "print(X_test_processed.shape)"
      ]
    },
    {
      "cell_type": "code",
      "execution_count": 25,
      "metadata": {
        "colab": {
          "base_uri": "https://localhost:8080/"
        },
        "id": "G9HxVLvy36r3",
        "outputId": "02bc2cc4-a245-41d8-97ab-b61e3a5fd07f"
      },
      "outputs": [
        {
          "name": "stdout",
          "output_type": "stream",
          "text": [
            "(100, 128, 128, 1) (100, 128, 128)\n"
          ]
        }
      ],
      "source": [
        "print(y_test.shape,y_pred_argmax.shape)"
      ]
    },
    {
      "cell_type": "code",
      "execution_count": 26,
      "metadata": {
        "colab": {
          "base_uri": "https://localhost:8080/"
        },
        "id": "pWgGDKiItR8E",
        "outputId": "760cba63-5cd1-4c86-d582-0dc1a218b580"
      },
      "outputs": [
        {
          "name": "stdout",
          "output_type": "stream",
          "text": [
            "Mean IoU = 0.864014\n"
          ]
        }
      ],
      "source": [
        "#Using built in keras function\n",
        "#from keras.metrics import MeanIoU\n",
        "n_classes = 2\n",
        "IOU_keras = MeanIoU(num_classes=n_classes)  \n",
        "IOU_keras.update_state(y_test[:,:,:,0], y_pred_argmax)\n",
        "print(\"Mean IoU =\", IOU_keras.result().numpy())\n",
        "     "
      ]
    },
    {
      "cell_type": "code",
      "execution_count": 27,
      "metadata": {
        "colab": {
          "base_uri": "https://localhost:8080/",
          "height": 261
        },
        "id": "1mzCirqmskHB",
        "outputId": "3615bee7-ba17-40c3-f503-e40b45a11474"
      },
      "outputs": [
        {
          "data": {
            "image/png": "[encoded data removed]",
            "text/plain": [
              "<Figure size 864x576 with 3 Axes>"
            ]
          },
          "metadata": {
            "needs_background": "light"
          },
          "output_type": "display_data"
        }
      ],
      "source": [
        "import random\n",
        "img_number = random.randint(0, len(X_test_processed)-1)\n",
        "img = X_test_processed[img_number]\n",
        "mask = y_test[img_number]\n",
        "prediction = y_pred_argmax[img_number]\n",
        "\n",
        "\n",
        "plt.figure(figsize=(12, 8))\n",
        "plt.subplot(231)\n",
        "plt.title('Image')\n",
        "plt.imshow(img, cmap='gray')\n",
        "plt.subplot(232)\n",
        "plt.title('Mask')\n",
        "plt.imshow(mask[:,:,0])\n",
        "plt.subplot(233)\n",
        "plt.title('Prediction')\n",
        "plt.imshow(prediction)\n",
        "plt.show()"
      ]
    },
    {
      "cell_type": "code",
      "execution_count": 28,
      "metadata": {
        "id": "7VwOjtxO0F-R"
      },
      "outputs": [],
      "source": [
        "image_names2 = glob.glob(\"D:\\\\university\\\\Dataset\\\\Dataset\\\\Brain scans\\\\Tumor\\\\TEST\\\\*.jpg\")\n",
        "image_names2.sort()\n",
        "images = [cv2.resize(cv2.imread(image, 1), (128, 128)) for image in image_names2] #SM backbones use 3 channel images, so let us read images in color.\n",
        "image_dataset2 = np.array(images)"
      ]
    },
    {
      "cell_type": "code",
      "execution_count": 29,
      "metadata": {
        "colab": {
          "base_uri": "https://localhost:8080/"
        },
        "id": "4vyC8vIm0PPj",
        "outputId": "f1c0ae2b-4652-4382-fbfa-4a0cd03efda1"
      },
      "outputs": [
        {
          "name": "stdout",
          "output_type": "stream",
          "text": [
            "[  0 255]\n"
          ]
        }
      ],
      "source": [
        "mask_names2 = glob.glob(\"D:\\\\university\\\\Dataset\\\\Dataset\\\\Brain scans\\\\Tumor\\\\TEST\\\\*.jpg\")\n",
        "mask_names2.sort()\n",
        "masks=[]\n",
        "for mask in mask_names2:\n",
        "  ret,thresh =cv2.threshold(cv2.resize(cv2.imread(mask, 0),(128,128)),55,255,0)\n",
        "  masks.append(thresh)\n",
        "mask_dataset2 = np.array(masks)\n",
        "print(np.unique(np.array(masks)))"
      ]
    },
    {
      "cell_type": "code",
      "execution_count": 30,
      "metadata": {
        "colab": {
          "base_uri": "https://localhost:8080/"
        },
        "id": "Pbt2deUU07u_",
        "outputId": "6e847999-6e19-43d3-f9f8-601dae977c4c"
      },
      "outputs": [
        {
          "name": "stdout",
          "output_type": "stream",
          "text": [
            "100\n",
            "100\n"
          ]
        }
      ],
      "source": [
        "print(len(image_dataset2))\n",
        "print(len(mask_dataset2))"
      ]
    },
    {
      "cell_type": "code",
      "execution_count": 31,
      "metadata": {
        "colab": {
          "base_uri": "https://localhost:8080/"
        },
        "id": "aMe_kZZm05Zw",
        "outputId": "4c7d11b2-6e15-470b-94a5-bc60e6b485a7"
      },
      "outputs": [
        {
          "data": {
            "text/plain": [
              "array([0, 1])"
            ]
          },
          "execution_count": 31,
          "metadata": {},
          "output_type": "execute_result"
        }
      ],
      "source": [
        "labelencoder = LabelEncoder()\n",
        "n, h, w = mask_dataset2.shape  \n",
        "mask_dataset_reshaped = mask_dataset2.reshape(-1,1)\n",
        "mask_dataset_reshaped_encoded = labelencoder.fit_transform(mask_dataset_reshaped)\n",
        "mask_dataset_encoded = mask_dataset_reshaped_encoded.reshape(n, h, w)\n",
        "\n",
        "np.unique(mask_dataset_encoded)"
      ]
    },
    {
      "cell_type": "code",
      "execution_count": 32,
      "metadata": {
        "colab": {
          "base_uri": "https://localhost:8080/"
        },
        "id": "IaM_WUFO1LpX",
        "outputId": "a03451c1-f8e8-49fa-f343-a4756254b927"
      },
      "outputs": [
        {
          "name": "stdout",
          "output_type": "stream",
          "text": [
            "(100, 128, 128, 1)\n"
          ]
        }
      ],
      "source": [
        "mask_dataset_encoded = np.expand_dims(mask_dataset_encoded, axis = 3)\n",
        "print(mask_dataset_encoded.shape)"
      ]
    },
    {
      "cell_type": "code",
      "execution_count": 33,
      "metadata": {
        "id": "2M59LOQV1QvH"
      },
      "outputs": [],
      "source": [
        "image_dataset2 = image_dataset2 /255."
      ]
    },
    {
      "cell_type": "code",
      "execution_count": 34,
      "metadata": {
        "id": "SpCDErfq12n6"
      },
      "outputs": [],
      "source": [
        "X_processed = preprocess_input(image_dataset2)"
      ]
    },
    {
      "cell_type": "code",
      "execution_count": 35,
      "metadata": {
        "colab": {
          "base_uri": "https://localhost:8080/"
        },
        "id": "1o22Rh9o2-73",
        "outputId": "46182734-cdfc-4255-bfdf-f4ed4da6920c"
      },
      "outputs": [
        {
          "data": {
            "text/plain": [
              "(100, 128, 128, 3)"
            ]
          },
          "execution_count": 35,
          "metadata": {},
          "output_type": "execute_result"
        }
      ],
      "source": [
        "X_processed.shape\n"
      ]
    },
    {
      "cell_type": "code",
      "execution_count": 36,
      "metadata": {
        "colab": {
          "base_uri": "https://localhost:8080/"
        },
        "id": "T5VyQ-Gu16Fe",
        "outputId": "89de5ec7-70c3-47cd-f5a4-dc52c42bb024"
      },
      "outputs": [
        {
          "name": "stdout",
          "output_type": "stream",
          "text": [
            "4/4 [==============================] - 0s 52ms/step\n",
            "Time  0.4  seconds\n"
          ]
        }
      ],
      "source": [
        "import time \n",
        "start=time.time()\n",
        "y_pred2=model.predict(X_processed)\n",
        "y_pred_argmax2=np.argmax(y_pred2, axis=3)\n",
        "end =time.time()\n",
        "execution=end-start\n",
        "print(\"Time \",round(execution,1),\" seconds\")"
      ]
    },
    {
      "cell_type": "code",
      "execution_count": 37,
      "metadata": {
        "colab": {
          "base_uri": "https://localhost:8080/"
        },
        "id": "6ivQHA4i2wyf",
        "outputId": "9555b31a-8c38-4337-9f34-5c4cba4f4fd7"
      },
      "outputs": [
        {
          "data": {
            "text/plain": [
              "(100, 128, 128)"
            ]
          },
          "execution_count": 37,
          "metadata": {},
          "output_type": "execute_result"
        }
      ],
      "source": [
        "y_pred_argmax2.shape"
      ]
    },
    {
      "cell_type": "code",
      "execution_count": 38,
      "metadata": {
        "colab": {
          "base_uri": "https://localhost:8080/"
        },
        "id": "5tWfCYXy4Fkz",
        "outputId": "6db4e708-6a2d-4881-ce68-9340b9a11150"
      },
      "outputs": [
        {
          "name": "stdout",
          "output_type": "stream",
          "text": [
            "(100, 128, 128, 1) (100, 128, 128)\n"
          ]
        }
      ],
      "source": [
        "print(mask_dataset_encoded.shape,y_pred_argmax2.shape)\n"
      ]
    },
    {
      "cell_type": "code",
      "execution_count": null,
      "metadata": {
        "colab": {
          "base_uri": "https://localhost:8080/"
        },
        "id": "cjdnm4ZR2Igv",
        "outputId": "b53ae020-1ede-45bf-cc98-66867817ae84"
      },
      "outputs": [
        {
          "name": "stdout",
          "output_type": "stream",
          "text": [
            "Mean IoU = 0.83298266\n"
          ]
        }
      ],
      "source": [
        "n_classes = 2\n",
        "IOU_keras = MeanIoU(num_classes=n_classes)  \n",
        "IOU_keras.update_state(mask_dataset_encoded[:,:,:,0], y_pred_argmax2)\n",
        "print(\"Mean IoU =\", IOU_keras.result().numpy())"
      ]
    },
    {
      "cell_type": "code",
      "execution_count": 40,
      "metadata": {
        "colab": {
          "base_uri": "https://localhost:8080/",
          "height": 261
        },
        "id": "vYextVLB7YeD",
        "outputId": "467d726a-236e-441d-c102-29a4fe3d4619"
      },
      "outputs": [
        {
          "data": {
            "image/png": "[encoded data removed]",
            "text/plain": [
              "<Figure size 864x576 with 3 Axes>"
            ]
          },
          "metadata": {
            "needs_background": "light"
          },
          "output_type": "display_data"
        }
      ],
      "source": [
        "\n",
        "img_number = random.randint(0, len(X_processed)-1)\n",
        "img = X_processed[img_number]\n",
        "mask = mask_dataset_encoded[img_number]\n",
        "prediction = y_pred_argmax2[img_number]\n",
        "\n",
        "\n",
        "plt.figure(figsize=(12, 8))\n",
        "plt.subplot(231)\n",
        "plt.title('Image')\n",
        "plt.imshow(img, cmap='gray')\n",
        "plt.subplot(232)\n",
        "plt.title('Mask')\n",
        "plt.imshow(mask[:,:,0])\n",
        "plt.subplot(233)\n",
        "plt.title('Prediction')\n",
        "plt.imshow(prediction)\n",
        "plt.show()"
      ]
    },
    {
      "cell_type": "code",
      "execution_count": 41,
      "metadata": {
        "colab": {
          "base_uri": "https://localhost:8080/",
          "height": 301
        },
        "id": "Np360ZOL7OfY",
        "outputId": "8875aa1a-55b4-432c-d422-8022ab592a46"
      },
      "outputs": [
        {
          "name": "stdout",
          "output_type": "stream",
          "text": [
            "30 X 36 pixels\n"
          ]
        },
        {
          "data": {
            "text/plain": [
              "<matplotlib.image.AxesImage at 0x7f49dfcb4ac0>"
            ]
          },
          "execution_count": 41,
          "metadata": {},
          "output_type": "execute_result"
        },
        {
          "data": {
            "image/png": "[encoded data removed]",
            "text/plain": [
              "<Figure size 432x288 with 1 Axes>"
            ]
          },
          "metadata": {
            "needs_background": "light"
          },
          "output_type": "display_data"
        }
      ],
      "source": [
        "x_min=999\n",
        "x_max=0\n",
        "y_min=999\n",
        "y_max=0\n",
        "for i in range(len(prediction)):\n",
        "  for j in range(len(prediction[0])):\n",
        "    if prediction[i][j]==1:\n",
        "      if i>y_max:\n",
        "        y_max=i\n",
        "      if i<y_min:\n",
        "        y_min=i\n",
        "      if j>x_max:\n",
        "        x_max=j\n",
        "      if j<x_min:\n",
        "        x_min=j\n",
        "# print(x_min,x_max,y_min,y_max)\n",
        "print(y_max-y_min,'X',x_max-x_min,'pixels')\n",
        "plt.imshow(prediction[y_min:y_max,x_min:x_max])"
      ]
    },
    {
      "cell_type": "code",
      "execution_count": null,
      "metadata": {
        "id": "MpVbulL1INAz"
      },
      "outputs": [],
      "source": [
        "# model.save_weights('weights.h5')"
      ]
    }
  ],
  "metadata": {
    "accelerator": "GPU",
    "colab": {
      "provenance": []
    },
    "gpuClass": "standard",
    "kernelspec": {
      "display_name": "Python 3",
      "language": "python",
      "name": "python3"
    },
    "language_info": {
      "name": "python",
      "version": "3.9.7 (tags/v3.9.7:1016ef3, Aug 30 2021, 20:19:38) [MSC v.1929 64 bit (AMD64)]"
    },
    "vscode": {
      "interpreter": {
        "hash": "3245ce477dff5cab7f388d292584ba488c55a0cd8d40c4a02b6e4feb24e4cbf0"
      }
    }
  },
  "nbformat": 4,
  "nbformat_minor": 0
}
